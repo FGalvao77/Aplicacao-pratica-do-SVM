{
 "cells": [
  {
   "cell_type": "markdown",
   "metadata": {},
   "source": [
    "### **Aplicação do Support Vector Machines (SVM)**\n",
    "---"
   ]
  },
  {
   "cell_type": "markdown",
   "metadata": {},
   "source": [
    "#### **Introdução**"
   ]
  },
  {
   "cell_type": "markdown",
   "metadata": {},
   "source": [
    "Uma **máquina de vetores de suporte** (_SVM_, do inglês: `support-vector machine`) é um conceito na [ciência da computação](https://pt.wikipedia.org/wiki/Ci%C3%AAncia_da_computa%C3%A7%C3%A3o) para um conjunto de métodos de aprendizado supervisionado que analisam os dados e reconhecem padrões, usado para classificação e análise de [regressão](https://pt.wikipedia.org/wiki/Aprendizagem_de_m%C3%A1quina). O SVM padrão toma como entrada um conjunto de dados e prediz, para cada entrada dada, qual de duas possíveis classes a entrada faz parte, o que faz do SVM um classificador linear binário não probabilístico. Dados um conjunto de exemplos de treinamento, cada um marcado como pertencente a uma de duas categorias, um [algoritmo](https://pt.wikipedia.org/wiki/Algoritmo) de treinamento do SVM constrói um modelo que atribui novos exemplos a uma categoria ou outra. Um modelo SVM é uma representação de exemplos como pontos no espaço, mapeados de maneira que os exemplos de cada categoria sejam divididos por um espaço claro que seja tão amplo quanto possível. Os novos exemplos são então mapeados no mesmo espaço e preditos como pertencentes a uma categoria baseados em qual o lado do espaço eles são colocados.\n",
    "\n",
    "Em outras palavras, o que uma SVM faz é encontrar uma linha de separação, mais comumente chamada de [hiperplano](https://pt.wikipedia.org/wiki/Hiperplano) entre dados de duas classes. Essa linha busca maximizar a distância entre os pontos mais próximos em relação a cada uma das classes, ver imagem:"
   ]
  },
  {
   "cell_type": "markdown",
   "metadata": {},
   "source": [
    "![](https://upload.wikimedia.org/wikipedia/commons/3/31/%D7%9E%D7%9B%D7%95%D7%A0%D7%AA_%D7%95%D7%95%D7%A7%D7%98%D7%A8%D7%99%D7%9D_%D7%AA%D7%95%D7%9E%D7%9B%D7%99%D7%9D_%D7%93%D7%95%D7%92%D7%9E%D7%90.jpg)"
   ]
  },
  {
   "cell_type": "markdown",
   "metadata": {},
   "source": [
    "Essa distância entre o _hiperplano_ e o primeiro ponto de cada classe costuma ser chamada de margem. A SVM coloca em primeiro lugar a classificação das classes, definindo assim cada ponto pertencente a cada uma das classes, e em seguida maximiza a margem. Ou seja, ela primeiro classifica as classes corretamente e depois em função dessa restrição define a distância entre as margens.\n",
    "\n",
    "**Algumas características:**\n",
    "\n",
    "- Em caso de [outlier](https://pt.wikipedia.org/wiki/Outlier) a SVM busca a melhor forma possível de classificação e, se necessário, desconsidera o outlier;\n",
    "- Funciona muito bem em domínios complicados, em que existe uma clara margem de separação;\n",
    "- Não funciona bem em conjuntos de dados muito grandes, pois exige [inversão de matriz](https://pt.wikipedia.org/wiki/Matriz_inversa) - aumentando a [complexidade computacional](https://pt.wikipedia.org/wiki/Complexidade_computacional_de_opera%C3%A7%C3%B5es_matem%C3%A1ticas) com até o cubo do volume de dados;\n",
    "- Não funciona bem em conjunto de dados com grande quantidade de ruídos;\n",
    "Se as classes estiverem muito sobrepostas deve-se utilizar apenas evidências independentes (devido ao fato de não ser muito bom com dados com muitos ruídos);"
   ]
  },
  {
   "cell_type": "markdown",
   "metadata": {},
   "source": [
    "**Fonte:** [Wikipedia](https://pt.wikipedia.org/wiki/M%C3%A1quina_de_vetores_de_suporte)"
   ]
  },
  {
   "cell_type": "markdown",
   "metadata": {},
   "source": [
    "#### **Praticando...**"
   ]
  },
  {
   "cell_type": "markdown",
   "metadata": {},
   "source": [
    "Para atividade prática da utilização do `SVM`, utilizarei o conjunto de dados do [Kaggle](https://www.kaggle.com/) que pode acessar através desse [link](https://www.kaggle.com/prathamtripathi/drug-classification)."
   ]
  },
  {
   "cell_type": "markdown",
   "metadata": {},
   "source": [
    "**Contexto**\n",
    "\n",
    "O nosso desafio é _prever_ o resultado dos medicamentos que podem ser prescritos para um determindado paciente, dadas algumas variáveis, como:\n",
    "- `Age`: idade do paciente;\n",
    "- `Sex`: sexo;\n",
    "- `BP`: níveis de Pressão Arterial(PA);\n",
    "- `Cholesterol`: níveis de colesterol;\n",
    "- `Na_to_K`: relação de sódio e potássio no sangue do paciente e,\n",
    "- `Drug`: tipo de medicamento (varáivel alvo);\n"
   ]
  },
  {
   "cell_type": "markdown",
   "metadata": {},
   "source": [
    "**Começando!**"
   ]
  },
  {
   "cell_type": "code",
   "execution_count": 1,
   "metadata": {},
   "outputs": [],
   "source": [
    "# biblioteca para ignorar mensagens de alerta\n",
    "import warnings\n",
    "warnings.filterwarnings('ignore')"
   ]
  },
  {
   "cell_type": "code",
   "execution_count": 2,
   "metadata": {},
   "outputs": [
    {
     "name": "stdout",
     "output_type": "stream",
     "text": [
      "3.9.10\n"
     ]
    }
   ],
   "source": [
    "# versão do python utilizada\n",
    "from platform import python_version\n",
    "print(python_version())"
   ]
  },
  {
   "cell_type": "markdown",
   "metadata": {},
   "source": [
    "Importarei o conjunto de dados do meu repositório pessoal do `GitHub`."
   ]
  },
  {
   "cell_type": "code",
   "execution_count": 3,
   "metadata": {},
   "outputs": [],
   "source": [
    "# instanciando a url no objeto \"path\"\n",
    "path = 'https://raw.githubusercontent.com/FGalvao77/datasets/main/drug200.csv'"
   ]
  },
  {
   "cell_type": "code",
   "execution_count": 4,
   "metadata": {},
   "outputs": [],
   "source": [
    "# importando a biblioteca para análise e manipulação de dados\n",
    "import pandas as pd"
   ]
  },
  {
   "cell_type": "code",
   "execution_count": 5,
   "metadata": {},
   "outputs": [],
   "source": [
    "# carregando o conjunto de dados no objeto \"df\"\n",
    "df = pd.read_csv(path)"
   ]
  },
  {
   "cell_type": "markdown",
   "metadata": {},
   "source": [
    "**Análise exploratória do conjunto de dados**"
   ]
  },
  {
   "cell_type": "code",
   "execution_count": 6,
   "metadata": {},
   "outputs": [
    {
     "data": {
      "text/html": [
       "<div>\n",
       "<style scoped>\n",
       "    .dataframe tbody tr th:only-of-type {\n",
       "        vertical-align: middle;\n",
       "    }\n",
       "\n",
       "    .dataframe tbody tr th {\n",
       "        vertical-align: top;\n",
       "    }\n",
       "\n",
       "    .dataframe thead th {\n",
       "        text-align: right;\n",
       "    }\n",
       "</style>\n",
       "<table border=\"1\" class=\"dataframe\">\n",
       "  <thead>\n",
       "    <tr style=\"text-align: right;\">\n",
       "      <th></th>\n",
       "      <th>Age</th>\n",
       "      <th>Sex</th>\n",
       "      <th>BP</th>\n",
       "      <th>Cholesterol</th>\n",
       "      <th>Na_to_K</th>\n",
       "      <th>Drug</th>\n",
       "    </tr>\n",
       "  </thead>\n",
       "  <tbody>\n",
       "    <tr>\n",
       "      <th>0</th>\n",
       "      <td>23</td>\n",
       "      <td>F</td>\n",
       "      <td>HIGH</td>\n",
       "      <td>HIGH</td>\n",
       "      <td>25.355</td>\n",
       "      <td>DrugY</td>\n",
       "    </tr>\n",
       "    <tr>\n",
       "      <th>1</th>\n",
       "      <td>47</td>\n",
       "      <td>M</td>\n",
       "      <td>LOW</td>\n",
       "      <td>HIGH</td>\n",
       "      <td>13.093</td>\n",
       "      <td>drugC</td>\n",
       "    </tr>\n",
       "    <tr>\n",
       "      <th>2</th>\n",
       "      <td>47</td>\n",
       "      <td>M</td>\n",
       "      <td>LOW</td>\n",
       "      <td>HIGH</td>\n",
       "      <td>10.114</td>\n",
       "      <td>drugC</td>\n",
       "    </tr>\n",
       "    <tr>\n",
       "      <th>3</th>\n",
       "      <td>28</td>\n",
       "      <td>F</td>\n",
       "      <td>NORMAL</td>\n",
       "      <td>HIGH</td>\n",
       "      <td>7.798</td>\n",
       "      <td>drugX</td>\n",
       "    </tr>\n",
       "    <tr>\n",
       "      <th>4</th>\n",
       "      <td>61</td>\n",
       "      <td>F</td>\n",
       "      <td>LOW</td>\n",
       "      <td>HIGH</td>\n",
       "      <td>18.043</td>\n",
       "      <td>DrugY</td>\n",
       "    </tr>\n",
       "  </tbody>\n",
       "</table>\n",
       "</div>"
      ],
      "text/plain": [
       "   Age Sex      BP Cholesterol  Na_to_K   Drug\n",
       "0   23   F    HIGH        HIGH   25.355  DrugY\n",
       "1   47   M     LOW        HIGH   13.093  drugC\n",
       "2   47   M     LOW        HIGH   10.114  drugC\n",
       "3   28   F  NORMAL        HIGH    7.798  drugX\n",
       "4   61   F     LOW        HIGH   18.043  DrugY"
      ]
     },
     "execution_count": 6,
     "metadata": {},
     "output_type": "execute_result"
    }
   ],
   "source": [
    "# visualizando as 5 primeiras observações\n",
    "df.head()"
   ]
  },
  {
   "cell_type": "code",
   "execution_count": 7,
   "metadata": {},
   "outputs": [
    {
     "data": {
      "text/plain": [
       "Age            0\n",
       "Sex            0\n",
       "BP             0\n",
       "Cholesterol    0\n",
       "Na_to_K        0\n",
       "Drug           0\n",
       "dtype: int64"
      ]
     },
     "execution_count": 7,
     "metadata": {},
     "output_type": "execute_result"
    }
   ],
   "source": [
    "# verificando se há presença de valores nulos\n",
    "df.isnull().sum()"
   ]
  },
  {
   "cell_type": "code",
   "execution_count": 8,
   "metadata": {},
   "outputs": [
    {
     "data": {
      "text/plain": [
       "(200, 6)"
      ]
     },
     "execution_count": 8,
     "metadata": {},
     "output_type": "execute_result"
    }
   ],
   "source": [
    "# dimensão do conjunto de dados\n",
    "df.shape    # linhas e colunas"
   ]
  },
  {
   "cell_type": "code",
   "execution_count": 9,
   "metadata": {},
   "outputs": [
    {
     "name": "stdout",
     "output_type": "stream",
     "text": [
      "<class 'pandas.core.frame.DataFrame'>\n",
      "RangeIndex: 200 entries, 0 to 199\n",
      "Data columns (total 6 columns):\n",
      " #   Column       Non-Null Count  Dtype  \n",
      "---  ------       --------------  -----  \n",
      " 0   Age          200 non-null    int64  \n",
      " 1   Sex          200 non-null    object \n",
      " 2   BP           200 non-null    object \n",
      " 3   Cholesterol  200 non-null    object \n",
      " 4   Na_to_K      200 non-null    float64\n",
      " 5   Drug         200 non-null    object \n",
      "dtypes: float64(1), int64(1), object(4)\n",
      "memory usage: 9.5+ KB\n"
     ]
    }
   ],
   "source": [
    "# informações gerais\n",
    "df.info()"
   ]
  },
  {
   "cell_type": "markdown",
   "metadata": {},
   "source": [
    "Se acaso, seja necessário a instalção da biblioteca do `seaborn`, descomente o código e execute-o."
   ]
  },
  {
   "cell_type": "code",
   "execution_count": 10,
   "metadata": {},
   "outputs": [],
   "source": [
    "#pip install seaborn"
   ]
  },
  {
   "cell_type": "code",
   "execution_count": 11,
   "metadata": {},
   "outputs": [],
   "source": [
    "# importando as bibliotecas para visualização gráfica\n",
    "import matplotlib.pyplot as plt\n",
    "import seaborn as sns\n",
    "\n",
    "# configurando o ambiente\n",
    "%matplotlib inline\n",
    "sns.set_theme(style='ticks', palette='pastel')"
   ]
  },
  {
   "cell_type": "code",
   "execution_count": 12,
   "metadata": {},
   "outputs": [
    {
     "data": {
      "image/png": "[encoded data removed]",
      "text/plain": [
       "<Figure size 936x360 with 1 Axes>"
      ]
     },
     "metadata": {},
     "output_type": "display_data"
    }
   ],
   "source": [
    "# gráfico de histograma da distribuição da variável Age (idade) X Sex (sexo)\n",
    "plt.figure(figsize=(13,5))\n",
    "\n",
    "plt.title('\\nDistribuição da idade por sexo\\n', \n",
    "          {'fontsize': 14,'fontweight': 'bold'})\n",
    "sns.histplot(data=df, x='Age', hue='Sex', element= 'step', fill=True, bins=50);"
   ]
  },
  {
   "cell_type": "code",
   "execution_count": 13,
   "metadata": {},
   "outputs": [
    {
     "data": {
      "image/png": "[encoded data removed]",
      "text/plain": [
       "<Figure size 936x360 with 1 Axes>"
      ]
     },
     "metadata": {},
     "output_type": "display_data"
    }
   ],
   "source": [
    "# gráfico de barras da distribuição das observações do atributo \"Sex\"\n",
    "plt.figure(figsize=(13,5))\n",
    "\n",
    "plt.title('\\nDistribuição dos dados do atributo \"Sex\"\\n', \n",
    "          {'fontsize': 14, 'fontweight': 'bold'})\n",
    "sns.countplot(data=df, y='Sex')\n",
    "plt.ylabel('Classes\\n [F = feminino | M = masculino]')\n",
    "plt.xlabel('Quantidade');"
   ]
  },
  {
   "cell_type": "code",
   "execution_count": 14,
   "metadata": {},
   "outputs": [],
   "source": [
    "# frequências da variávies qualitativas\n",
    "#qualitative_vars = ['Sex', 'BP', 'Cholesterol', 'Drug']\n",
    "#qualitative_vars"
   ]
  },
  {
   "cell_type": "code",
   "execution_count": 15,
   "metadata": {},
   "outputs": [
    {
     "data": {
      "text/plain": [
       "Index(['Sex', 'BP', 'Cholesterol', 'Drug'], dtype='object')"
      ]
     },
     "execution_count": 15,
     "metadata": {},
     "output_type": "execute_result"
    }
   ],
   "source": [
    "# instanciando as variáveis qualitativas do conjunto de dados\n",
    "qualitative_vars = df.select_dtypes(include='object').columns\n",
    "\n",
    "# visualizando o resultado da seleção\n",
    "qualitative_vars"
   ]
  },
  {
   "cell_type": "code",
   "execution_count": 16,
   "metadata": {},
   "outputs": [
    {
     "data": {
      "image/png": "[encoded data removed]",
      "text/plain": [
       "<Figure size 432x288 with 1 Axes>"
      ]
     },
     "metadata": {},
     "output_type": "display_data"
    },
    {
     "data": {
      "image/png": "[encoded data removed]",
      "text/plain": [
       "<Figure size 432x288 with 1 Axes>"
      ]
     },
     "metadata": {},
     "output_type": "display_data"
    },
    {
     "data": {
      "image/png": "[encoded data removed]",
      "text/plain": [
       "<Figure size 432x288 with 1 Axes>"
      ]
     },
     "metadata": {},
     "output_type": "display_data"
    },
    {
     "data": {
      "image/png": "[encoded data removed]",
      "text/plain": [
       "<Figure size 432x288 with 1 Axes>"
      ]
     },
     "metadata": {},
     "output_type": "display_data"
    }
   ],
   "source": [
    "# plotando gráficos de barras da distribuição das observações das variáveis qualitativas\n",
    "for col in qualitative_vars:\n",
    "    fig, ax = plt.subplots()\n",
    "    sns.countplot(x=col, data=df, ax=ax)\n",
    "    ax.set_title('Distribuição das observações na variável')\n",
    "    plt.show()"
   ]
  },
  {
   "cell_type": "markdown",
   "metadata": {},
   "source": [
    "> Todas as variáveis estão bem distribuídas, exceto a variável alvo `\"Drug\"`. <br><br>Isso pode causar problemas de desempenho no algoritmo, visto que, ele pode ficar muito bom em prever uma determinada classe e não tão bom assim em outras. <br>Talvez fosse interessante estudar alguma técnica de balanceamento como **RandomUnderSampler** ou **RandomOverSampler**."
   ]
  },
  {
   "cell_type": "code",
   "execution_count": 17,
   "metadata": {},
   "outputs": [
    {
     "data": {
      "image/png": "[encoded data removed]",
      "text/plain": [
       "<Figure size 936x360 with 2 Axes>"
      ]
     },
     "metadata": {},
     "output_type": "display_data"
    }
   ],
   "source": [
    "# gráfico de histograma da distribuição das observações das variáveis quantitativas\n",
    "df.hist(bins=50, figsize=(13,5));"
   ]
  },
  {
   "cell_type": "code",
   "execution_count": 20,
   "metadata": {},
   "outputs": [
    {
     "data": {
      "text/html": [
       "<div>\n",
       "<style scoped>\n",
       "    .dataframe tbody tr th:only-of-type {\n",
       "        vertical-align: middle;\n",
       "    }\n",
       "\n",
       "    .dataframe tbody tr th {\n",
       "        vertical-align: top;\n",
       "    }\n",
       "\n",
       "    .dataframe thead th {\n",
       "        text-align: right;\n",
       "    }\n",
       "</style>\n",
       "<table border=\"1\" class=\"dataframe\">\n",
       "  <thead>\n",
       "    <tr style=\"text-align: right;\">\n",
       "      <th></th>\n",
       "      <th>count</th>\n",
       "      <th>mean</th>\n",
       "      <th>std</th>\n",
       "      <th>min</th>\n",
       "      <th>25%</th>\n",
       "      <th>50%</th>\n",
       "      <th>75%</th>\n",
       "      <th>max</th>\n",
       "    </tr>\n",
       "  </thead>\n",
       "  <tbody>\n",
       "    <tr>\n",
       "      <th>Age</th>\n",
       "      <td>200.0</td>\n",
       "      <td>44.315000</td>\n",
       "      <td>16.544315</td>\n",
       "      <td>15.000</td>\n",
       "      <td>31.0000</td>\n",
       "      <td>45.0000</td>\n",
       "      <td>58.00</td>\n",
       "      <td>74.000</td>\n",
       "    </tr>\n",
       "    <tr>\n",
       "      <th>Na_to_K</th>\n",
       "      <td>200.0</td>\n",
       "      <td>16.084485</td>\n",
       "      <td>7.223956</td>\n",
       "      <td>6.269</td>\n",
       "      <td>10.4455</td>\n",
       "      <td>13.9365</td>\n",
       "      <td>19.38</td>\n",
       "      <td>38.247</td>\n",
       "    </tr>\n",
       "  </tbody>\n",
       "</table>\n",
       "</div>"
      ],
      "text/plain": [
       "         count       mean        std     min      25%      50%    75%     max\n",
       "Age      200.0  44.315000  16.544315  15.000  31.0000  45.0000  58.00  74.000\n",
       "Na_to_K  200.0  16.084485   7.223956   6.269  10.4455  13.9365  19.38  38.247"
      ]
     },
     "execution_count": 20,
     "metadata": {},
     "output_type": "execute_result"
    }
   ],
   "source": [
    "# dados estatístico das variáveis quantitativas\n",
    "df.describe().T"
   ]
  },
  {
   "cell_type": "code",
   "execution_count": 21,
   "metadata": {},
   "outputs": [
    {
     "data": {
      "image/png": "[encoded data removed]",
      "text/plain": [
       "<Figure size 936x504 with 2 Axes>"
      ]
     },
     "metadata": {},
     "output_type": "display_data"
    }
   ],
   "source": [
    "# plotando gráficos - boxplot e histograma da distribuição dos dados da variável \"Age\" (idade)\n",
    "mean = df['Age'].mean()     # média\n",
    "median = df['Age'].median() # mediana\n",
    "mode = df['Age'].mode()[0]  # moda\n",
    "\n",
    "fig, (ax_box, ax_hist) = plt.subplots(2, sharex=True, \n",
    "                                      figsize=(13,7))\n",
    "\n",
    "sns.boxplot(data=df, x='Age', ax=ax_box, color='lightblue')\n",
    "ax_box.axvline(mean, color='red', linestyle='--', linewidth=4)\n",
    "ax_box.axvline(median, color='green', linestyle='-', linewidth=4)\n",
    "ax_box.axvline(mode, color='orange', linestyle='--', linewidth=4)\n",
    "ax_box.set(xlabel='')\n",
    "ax_box.set_title('\\nDistribuição dos dados da variável \"Age\" (idade)\\n',\n",
    "                 {'fontsize': 14,'fontweight': 'bold'})\n",
    "\n",
    "sns.histplot(data=df, x='Age', ax=ax_hist, kde=True, bins=50, color='blue')\n",
    "ax_hist.axvline(mean, color='red', linestyle='--', label='Média', linewidth=4)\n",
    "ax_hist.axvline(median, color='green', linestyle='-', label='Mediana', linewidth=4)\n",
    "ax_hist.axvline(mode, color='orange', linestyle='--', label='Moda', linewidth=4)\n",
    "\n",
    "ax_hist.legend()\n",
    "plt.tight_layout();"
   ]
  },
  {
   "cell_type": "code",
   "execution_count": 22,
   "metadata": {},
   "outputs": [
    {
     "data": {
      "image/png": "[encoded data removed]",
      "text/plain": [
       "<Figure size 936x504 with 2 Axes>"
      ]
     },
     "metadata": {},
     "output_type": "display_data"
    }
   ],
   "source": [
    "# plotando gráficos - boxplot e histograma da distribuição dos dados da variável \"Na_to_K\" (relação de sódio e potássio no sangue do paciente)\n",
    "mean = df['Na_to_K'].mean()     # média        \n",
    "median = df['Na_to_K'].median() # mediana\n",
    "mode = df['Na_to_K'].mode()[0]  # moda\n",
    "\n",
    "fig, (ax_box, ax_hist) = plt.subplots(2, sharex=True, \n",
    "                                      figsize=(13,7))\n",
    "\n",
    "sns.boxplot(data=df, x='Na_to_K', ax=ax_box, color='lightblue')\n",
    "ax_box.axvline(mean, color='red', linestyle='--', linewidth=4)\n",
    "ax_box.axvline(median, color='green', linestyle='-', linewidth=4)\n",
    "ax_box.axvline(mode, color='orange', linestyle='--', linewidth=4)\n",
    "ax_box.set(xlabel='')\n",
    "ax_box.set_title('\\nDistribuição dos dados da variável \"Na_to_K\" (relação de sódio e potássio no sangue do paciente)\\n',\n",
    "                 {'fontsize': 14,'fontweight': 'bold'})\n",
    "\n",
    "sns.histplot(data=df, x='Na_to_K', ax=ax_hist, kde=True, bins=50, color='blue')\n",
    "ax_hist.axvline(mean, color='red', linestyle='--', label='Média', linewidth=4)\n",
    "ax_hist.axvline(median, color='green', linestyle='-', label='Mediana', linewidth=4)\n",
    "ax_hist.axvline(mode, color='orange', linestyle='--', label='Moda', linewidth=4)\n",
    "\n",
    "ax_hist.legend()\n",
    "plt.tight_layout();"
   ]
  },
  {
   "cell_type": "code",
   "execution_count": 23,
   "metadata": {},
   "outputs": [
    {
     "data": {
      "image/png": "[encoded data removed]",
      "text/plain": [
       "<Figure size 360x360 with 2 Axes>"
      ]
     },
     "metadata": {},
     "output_type": "display_data"
    }
   ],
   "source": [
    "# visualizando a correlação de pearson entre as variáveis quantitativas\n",
    "plt.figure(figsize=(5,5))\n",
    "sns.heatmap(df.corr(), fmt='0.2%', annot=True, square=True)\n",
    "plt.tight_layout()"
   ]
  },
  {
   "cell_type": "markdown",
   "metadata": {},
   "source": [
    "**Preparação dos dados**"
   ]
  },
  {
   "cell_type": "code",
   "execution_count": 24,
   "metadata": {},
   "outputs": [
    {
     "name": "stdout",
     "output_type": "stream",
     "text": [
      "Dados para modelagem (180, 6)\n",
      "Dados para teste: (20, 6)\n"
     ]
    }
   ],
   "source": [
    "# dividindo o conjunto de dados em partes para a modelagem do modelo (treino e validação) e outra parte para teste final do modelo\n",
    "modeling_data = df.sample(frac=0.9, random_state=42)\n",
    "test_data = df.drop(modeling_data.index)\n",
    "\n",
    "# resetando os índices\n",
    "modeling_data.reset_index(drop=True, inplace=True)\n",
    "test_data.reset_index(drop=True, inplace=True)\n",
    "\n",
    "# visualizando a dimensão do particionamento dos dados\n",
    "print('Dados para modelagem ' + str(modeling_data.shape))\n",
    "print('Dados para teste: ' + str(test_data.shape))"
   ]
  },
  {
   "cell_type": "code",
   "execution_count": 26,
   "metadata": {},
   "outputs": [
    {
     "data": {
      "text/html": [
       "<div>\n",
       "<style scoped>\n",
       "    .dataframe tbody tr th:only-of-type {\n",
       "        vertical-align: middle;\n",
       "    }\n",
       "\n",
       "    .dataframe tbody tr th {\n",
       "        vertical-align: top;\n",
       "    }\n",
       "\n",
       "    .dataframe thead th {\n",
       "        text-align: right;\n",
       "    }\n",
       "</style>\n",
       "<table border=\"1\" class=\"dataframe\">\n",
       "  <thead>\n",
       "    <tr style=\"text-align: right;\">\n",
       "      <th></th>\n",
       "      <th>Age</th>\n",
       "      <th>Sex</th>\n",
       "      <th>BP</th>\n",
       "      <th>Cholesterol</th>\n",
       "      <th>Na_to_K</th>\n",
       "      <th>Drug</th>\n",
       "    </tr>\n",
       "  </thead>\n",
       "  <tbody>\n",
       "    <tr>\n",
       "      <th>0</th>\n",
       "      <td>36</td>\n",
       "      <td>M</td>\n",
       "      <td>LOW</td>\n",
       "      <td>NORMAL</td>\n",
       "      <td>11.424</td>\n",
       "      <td>drugX</td>\n",
       "    </tr>\n",
       "    <tr>\n",
       "      <th>1</th>\n",
       "      <td>16</td>\n",
       "      <td>F</td>\n",
       "      <td>HIGH</td>\n",
       "      <td>NORMAL</td>\n",
       "      <td>15.516</td>\n",
       "      <td>DrugY</td>\n",
       "    </tr>\n",
       "    <tr>\n",
       "      <th>2</th>\n",
       "      <td>18</td>\n",
       "      <td>F</td>\n",
       "      <td>NORMAL</td>\n",
       "      <td>NORMAL</td>\n",
       "      <td>8.750</td>\n",
       "      <td>drugX</td>\n",
       "    </tr>\n",
       "    <tr>\n",
       "      <th>3</th>\n",
       "      <td>59</td>\n",
       "      <td>F</td>\n",
       "      <td>LOW</td>\n",
       "      <td>HIGH</td>\n",
       "      <td>10.444</td>\n",
       "      <td>drugC</td>\n",
       "    </tr>\n",
       "    <tr>\n",
       "      <th>4</th>\n",
       "      <td>47</td>\n",
       "      <td>M</td>\n",
       "      <td>LOW</td>\n",
       "      <td>NORMAL</td>\n",
       "      <td>33.542</td>\n",
       "      <td>DrugY</td>\n",
       "    </tr>\n",
       "  </tbody>\n",
       "</table>\n",
       "</div>"
      ],
      "text/plain": [
       "   Age Sex      BP Cholesterol  Na_to_K   Drug\n",
       "0   36   M     LOW      NORMAL   11.424  drugX\n",
       "1   16   F    HIGH      NORMAL   15.516  DrugY\n",
       "2   18   F  NORMAL      NORMAL    8.750  drugX\n",
       "3   59   F     LOW        HIGH   10.444  drugC\n",
       "4   47   M     LOW      NORMAL   33.542  DrugY"
      ]
     },
     "execution_count": 26,
     "metadata": {},
     "output_type": "execute_result"
    }
   ],
   "source": [
    "# visualizando as 5 primeiras observações do conjunto de dados para modelagem do modelo\n",
    "modeling_data.head()"
   ]
  },
  {
   "cell_type": "code",
   "execution_count": 27,
   "metadata": {},
   "outputs": [
    {
     "data": {
      "text/html": [
       "<div>\n",
       "<style scoped>\n",
       "    .dataframe tbody tr th:only-of-type {\n",
       "        vertical-align: middle;\n",
       "    }\n",
       "\n",
       "    .dataframe tbody tr th {\n",
       "        vertical-align: top;\n",
       "    }\n",
       "\n",
       "    .dataframe thead th {\n",
       "        text-align: right;\n",
       "    }\n",
       "</style>\n",
       "<table border=\"1\" class=\"dataframe\">\n",
       "  <thead>\n",
       "    <tr style=\"text-align: right;\">\n",
       "      <th></th>\n",
       "      <th>Age</th>\n",
       "      <th>Sex</th>\n",
       "      <th>BP</th>\n",
       "      <th>Cholesterol</th>\n",
       "      <th>Na_to_K</th>\n",
       "      <th>Drug</th>\n",
       "    </tr>\n",
       "  </thead>\n",
       "  <tbody>\n",
       "    <tr>\n",
       "      <th>0</th>\n",
       "      <td>47</td>\n",
       "      <td>M</td>\n",
       "      <td>LOW</td>\n",
       "      <td>HIGH</td>\n",
       "      <td>13.093</td>\n",
       "      <td>drugC</td>\n",
       "    </tr>\n",
       "    <tr>\n",
       "      <th>1</th>\n",
       "      <td>50</td>\n",
       "      <td>F</td>\n",
       "      <td>NORMAL</td>\n",
       "      <td>HIGH</td>\n",
       "      <td>12.703</td>\n",
       "      <td>drugX</td>\n",
       "    </tr>\n",
       "    <tr>\n",
       "      <th>2</th>\n",
       "      <td>57</td>\n",
       "      <td>M</td>\n",
       "      <td>LOW</td>\n",
       "      <td>NORMAL</td>\n",
       "      <td>19.128</td>\n",
       "      <td>DrugY</td>\n",
       "    </tr>\n",
       "    <tr>\n",
       "      <th>3</th>\n",
       "      <td>62</td>\n",
       "      <td>M</td>\n",
       "      <td>LOW</td>\n",
       "      <td>NORMAL</td>\n",
       "      <td>27.183</td>\n",
       "      <td>DrugY</td>\n",
       "    </tr>\n",
       "    <tr>\n",
       "      <th>4</th>\n",
       "      <td>28</td>\n",
       "      <td>F</td>\n",
       "      <td>NORMAL</td>\n",
       "      <td>HIGH</td>\n",
       "      <td>19.675</td>\n",
       "      <td>DrugY</td>\n",
       "    </tr>\n",
       "  </tbody>\n",
       "</table>\n",
       "</div>"
      ],
      "text/plain": [
       "   Age Sex      BP Cholesterol  Na_to_K   Drug\n",
       "0   47   M     LOW        HIGH   13.093  drugC\n",
       "1   50   F  NORMAL        HIGH   12.703  drugX\n",
       "2   57   M     LOW      NORMAL   19.128  DrugY\n",
       "3   62   M     LOW      NORMAL   27.183  DrugY\n",
       "4   28   F  NORMAL        HIGH   19.675  DrugY"
      ]
     },
     "execution_count": 27,
     "metadata": {},
     "output_type": "execute_result"
    }
   ],
   "source": [
    "# visualizando as 5 primeiras observações do conjunto de dados\n",
    "test_data.head()"
   ]
  },
  {
   "cell_type": "code",
   "execution_count": 28,
   "metadata": {},
   "outputs": [
    {
     "data": {
      "text/html": [
       "<div>\n",
       "<style scoped>\n",
       "    .dataframe tbody tr th:only-of-type {\n",
       "        vertical-align: middle;\n",
       "    }\n",
       "\n",
       "    .dataframe tbody tr th {\n",
       "        vertical-align: top;\n",
       "    }\n",
       "\n",
       "    .dataframe thead th {\n",
       "        text-align: right;\n",
       "    }\n",
       "</style>\n",
       "<table border=\"1\" class=\"dataframe\">\n",
       "  <thead>\n",
       "    <tr style=\"text-align: right;\">\n",
       "      <th></th>\n",
       "      <th>Age</th>\n",
       "      <th>Sex</th>\n",
       "      <th>BP</th>\n",
       "      <th>Cholesterol</th>\n",
       "      <th>Na_to_K</th>\n",
       "      <th>Drug</th>\n",
       "    </tr>\n",
       "  </thead>\n",
       "  <tbody>\n",
       "    <tr>\n",
       "      <th>0</th>\n",
       "      <td>36</td>\n",
       "      <td>M</td>\n",
       "      <td>LOW</td>\n",
       "      <td>NORMAL</td>\n",
       "      <td>11.424</td>\n",
       "      <td>drugX</td>\n",
       "    </tr>\n",
       "    <tr>\n",
       "      <th>1</th>\n",
       "      <td>16</td>\n",
       "      <td>F</td>\n",
       "      <td>HIGH</td>\n",
       "      <td>NORMAL</td>\n",
       "      <td>15.516</td>\n",
       "      <td>DrugY</td>\n",
       "    </tr>\n",
       "    <tr>\n",
       "      <th>2</th>\n",
       "      <td>18</td>\n",
       "      <td>F</td>\n",
       "      <td>NORMAL</td>\n",
       "      <td>NORMAL</td>\n",
       "      <td>8.750</td>\n",
       "      <td>drugX</td>\n",
       "    </tr>\n",
       "    <tr>\n",
       "      <th>3</th>\n",
       "      <td>59</td>\n",
       "      <td>F</td>\n",
       "      <td>LOW</td>\n",
       "      <td>HIGH</td>\n",
       "      <td>10.444</td>\n",
       "      <td>drugC</td>\n",
       "    </tr>\n",
       "    <tr>\n",
       "      <th>4</th>\n",
       "      <td>47</td>\n",
       "      <td>M</td>\n",
       "      <td>LOW</td>\n",
       "      <td>NORMAL</td>\n",
       "      <td>33.542</td>\n",
       "      <td>DrugY</td>\n",
       "    </tr>\n",
       "  </tbody>\n",
       "</table>\n",
       "</div>"
      ],
      "text/plain": [
       "   Age Sex      BP Cholesterol  Na_to_K   Drug\n",
       "0   36   M     LOW      NORMAL   11.424  drugX\n",
       "1   16   F    HIGH      NORMAL   15.516  DrugY\n",
       "2   18   F  NORMAL      NORMAL    8.750  drugX\n",
       "3   59   F     LOW        HIGH   10.444  drugC\n",
       "4   47   M     LOW      NORMAL   33.542  DrugY"
      ]
     },
     "metadata": {},
     "output_type": "display_data"
    },
    {
     "data": {
      "text/html": [
       "<div>\n",
       "<style scoped>\n",
       "    .dataframe tbody tr th:only-of-type {\n",
       "        vertical-align: middle;\n",
       "    }\n",
       "\n",
       "    .dataframe tbody tr th {\n",
       "        vertical-align: top;\n",
       "    }\n",
       "\n",
       "    .dataframe thead th {\n",
       "        text-align: right;\n",
       "    }\n",
       "</style>\n",
       "<table border=\"1\" class=\"dataframe\">\n",
       "  <thead>\n",
       "    <tr style=\"text-align: right;\">\n",
       "      <th></th>\n",
       "      <th>Age</th>\n",
       "      <th>Sex</th>\n",
       "      <th>BP</th>\n",
       "      <th>Cholesterol</th>\n",
       "      <th>Na_to_K</th>\n",
       "      <th>Drug</th>\n",
       "    </tr>\n",
       "  </thead>\n",
       "  <tbody>\n",
       "    <tr>\n",
       "      <th>139</th>\n",
       "      <td>24</td>\n",
       "      <td>M</td>\n",
       "      <td>NORMAL</td>\n",
       "      <td>HIGH</td>\n",
       "      <td>25.786</td>\n",
       "      <td>DrugY</td>\n",
       "    </tr>\n",
       "    <tr>\n",
       "      <th>94</th>\n",
       "      <td>34</td>\n",
       "      <td>F</td>\n",
       "      <td>HIGH</td>\n",
       "      <td>NORMAL</td>\n",
       "      <td>19.199</td>\n",
       "      <td>DrugY</td>\n",
       "    </tr>\n",
       "    <tr>\n",
       "      <th>38</th>\n",
       "      <td>16</td>\n",
       "      <td>M</td>\n",
       "      <td>HIGH</td>\n",
       "      <td>NORMAL</td>\n",
       "      <td>19.007</td>\n",
       "      <td>DrugY</td>\n",
       "    </tr>\n",
       "    <tr>\n",
       "      <th>2</th>\n",
       "      <td>18</td>\n",
       "      <td>F</td>\n",
       "      <td>NORMAL</td>\n",
       "      <td>NORMAL</td>\n",
       "      <td>8.750</td>\n",
       "      <td>drugX</td>\n",
       "    </tr>\n",
       "    <tr>\n",
       "      <th>106</th>\n",
       "      <td>47</td>\n",
       "      <td>F</td>\n",
       "      <td>LOW</td>\n",
       "      <td>HIGH</td>\n",
       "      <td>11.767</td>\n",
       "      <td>drugC</td>\n",
       "    </tr>\n",
       "  </tbody>\n",
       "</table>\n",
       "</div>"
      ],
      "text/plain": [
       "     Age Sex      BP Cholesterol  Na_to_K   Drug\n",
       "139   24   M  NORMAL        HIGH   25.786  DrugY\n",
       "94    34   F    HIGH      NORMAL   19.199  DrugY\n",
       "38    16   M    HIGH      NORMAL   19.007  DrugY\n",
       "2     18   F  NORMAL      NORMAL    8.750  drugX\n",
       "106   47   F     LOW        HIGH   11.767  drugC"
      ]
     },
     "metadata": {},
     "output_type": "display_data"
    },
    {
     "data": {
      "text/html": [
       "<div>\n",
       "<style scoped>\n",
       "    .dataframe tbody tr th:only-of-type {\n",
       "        vertical-align: middle;\n",
       "    }\n",
       "\n",
       "    .dataframe tbody tr th {\n",
       "        vertical-align: top;\n",
       "    }\n",
       "\n",
       "    .dataframe thead th {\n",
       "        text-align: right;\n",
       "    }\n",
       "</style>\n",
       "<table border=\"1\" class=\"dataframe\">\n",
       "  <thead>\n",
       "    <tr style=\"text-align: right;\">\n",
       "      <th></th>\n",
       "      <th>Age</th>\n",
       "      <th>Sex</th>\n",
       "      <th>BP</th>\n",
       "      <th>Cholesterol</th>\n",
       "      <th>Na_to_K</th>\n",
       "      <th>Drug</th>\n",
       "    </tr>\n",
       "  </thead>\n",
       "  <tbody>\n",
       "    <tr>\n",
       "      <th>175</th>\n",
       "      <td>72</td>\n",
       "      <td>M</td>\n",
       "      <td>LOW</td>\n",
       "      <td>HIGH</td>\n",
       "      <td>16.310</td>\n",
       "      <td>DrugY</td>\n",
       "    </tr>\n",
       "    <tr>\n",
       "      <th>176</th>\n",
       "      <td>32</td>\n",
       "      <td>F</td>\n",
       "      <td>NORMAL</td>\n",
       "      <td>HIGH</td>\n",
       "      <td>7.477</td>\n",
       "      <td>drugX</td>\n",
       "    </tr>\n",
       "    <tr>\n",
       "      <th>177</th>\n",
       "      <td>39</td>\n",
       "      <td>M</td>\n",
       "      <td>LOW</td>\n",
       "      <td>NORMAL</td>\n",
       "      <td>13.938</td>\n",
       "      <td>drugX</td>\n",
       "    </tr>\n",
       "    <tr>\n",
       "      <th>178</th>\n",
       "      <td>53</td>\n",
       "      <td>M</td>\n",
       "      <td>LOW</td>\n",
       "      <td>HIGH</td>\n",
       "      <td>22.963</td>\n",
       "      <td>DrugY</td>\n",
       "    </tr>\n",
       "    <tr>\n",
       "      <th>179</th>\n",
       "      <td>72</td>\n",
       "      <td>M</td>\n",
       "      <td>LOW</td>\n",
       "      <td>HIGH</td>\n",
       "      <td>6.769</td>\n",
       "      <td>drugC</td>\n",
       "    </tr>\n",
       "  </tbody>\n",
       "</table>\n",
       "</div>"
      ],
      "text/plain": [
       "     Age Sex      BP Cholesterol  Na_to_K   Drug\n",
       "175   72   M     LOW        HIGH   16.310  DrugY\n",
       "176   32   F  NORMAL        HIGH    7.477  drugX\n",
       "177   39   M     LOW      NORMAL   13.938  drugX\n",
       "178   53   M     LOW        HIGH   22.963  DrugY\n",
       "179   72   M     LOW        HIGH    6.769  drugC"
      ]
     },
     "metadata": {},
     "output_type": "display_data"
    }
   ],
   "source": [
    "# visualizando as 5 primeiras, 5 aleatórias e as 5 últimas observações\n",
    "display(\n",
    "    modeling_data.head(),\n",
    "    modeling_data.sample(5),\n",
    "    modeling_data.tail()\n",
    ")"
   ]
  },
  {
   "cell_type": "markdown",
   "metadata": {},
   "source": [
    "Se acaso, seja necessário a instalção da biblioteca do `sklearn`, descomente o código e execute-o."
   ]
  },
  {
   "cell_type": "code",
   "execution_count": 29,
   "metadata": {},
   "outputs": [],
   "source": [
    "#pip install sklearn"
   ]
  },
  {
   "cell_type": "code",
   "execution_count": 30,
   "metadata": {},
   "outputs": [],
   "source": [
    "# importando a função para realizar o particionamento dos dados\n",
    "from sklearn.model_selection import train_test_split"
   ]
  },
  {
   "cell_type": "code",
   "execution_count": 31,
   "metadata": {},
   "outputs": [],
   "source": [
    "# particionando os dados do objeto \"data_modeling\" em dados de treino (train_set) e validação (val_set)\n",
    "train_set, val_set = train_test_split(modeling_data, test_size=0.3, random_state=42)"
   ]
  },
  {
   "cell_type": "code",
   "execution_count": 32,
   "metadata": {},
   "outputs": [
    {
     "name": "stdout",
     "output_type": "stream",
     "text": [
      "Qtde de observações no conjunto de treino: 126\n",
      "Qtde de observações no conjunto de validação: 54\n"
     ]
    }
   ],
   "source": [
    "# visualizando a quantidade de observações nas partições\n",
    "print(\n",
    "    f'Qtde de observações no conjunto de treino: {len(train_set)}',\n",
    "    f'Qtde de observações no conjunto de validação: {len(val_set)}',\n",
    "    sep='\\n'\n",
    ")\n"
   ]
  },
  {
   "cell_type": "markdown",
   "metadata": {},
   "source": [
    "\n",
    "Para aplicação de algoritmos de _machine learning_ é de extrema importância que as observações sejam numéricas, portanto dados qualitativos devem ser realizado algum tipo de transformação.\n",
    "\n",
    "Existe inúmeras técnicas para essa tarefa de transformação e, para esse nosso problema utilizaremos a função `OrdinalEncncoder`.\n"
   ]
  },
  {
   "cell_type": "code",
   "execution_count": 33,
   "metadata": {},
   "outputs": [],
   "source": [
    "# realizando uma cópia do conjunto de dados de treino\n",
    "df_copy = train_set.copy()"
   ]
  },
  {
   "cell_type": "markdown",
   "metadata": {},
   "source": [
    "Se acaso, seja necessário a instalção da biblioteca do `category_encoders`, descomente o código e execute-o."
   ]
  },
  {
   "cell_type": "code",
   "execution_count": 34,
   "metadata": {},
   "outputs": [],
   "source": [
    "#pip install category_encoders"
   ]
  },
  {
   "cell_type": "code",
   "execution_count": 35,
   "metadata": {},
   "outputs": [],
   "source": [
    "# importando a biblioteca \"category_encoders\" e a função \"OrdinalEncoder\" do sklearn\n",
    "import category_encoders as ce\n",
    "from sklearn.preprocessing import OrdinalEncoder"
   ]
  },
  {
   "cell_type": "code",
   "execution_count": 36,
   "metadata": {},
   "outputs": [
    {
     "data": {
      "text/plain": [
       "OrdinalEncoder(cols=[['Sex', 'BP', 'Cholesterol']],\n",
       "               mapping=[{'col': 'Sex', 'mapping': {'F': 0, 'M': 1}},\n",
       "                        {'col': 'BP',\n",
       "                         'mapping': {'HIGH': 2, 'LOW': 0, 'NORMAL': 1}},\n",
       "                        {'col': 'Cholesterol',\n",
       "                         'mapping': {'HIGH': 1, 'NORMAL': 0}}])"
      ]
     },
     "execution_count": 36,
     "metadata": {},
     "output_type": "execute_result"
    }
   ],
   "source": [
    "# instanciando o objeto \"encoder_att\" com os atributos qualitatvos (categóricos) dos dados de treinamento\n",
    "encoder_att = ce.OrdinalEncoder(\n",
    "    cols=[['Sex', 'BP', 'Cholesterol']], return_df=True,\n",
    "    mapping=[\n",
    "        {'col': 'Sex', 'mapping': {'F': 0, 'M': 1}}, \n",
    "        {'col': 'BP', 'mapping': {'LOW': 0, 'NORMAL': 1, 'HIGH': 2}}, \n",
    "        {'col': 'Cholesterol', 'mapping': {'NORMAL': 0, 'HIGH': 1}}]\n",
    "\n",
    ")\n",
    "\n",
    "# visualizando o resultado do objeto\n",
    "encoder_att"
   ]
  },
  {
   "cell_type": "code",
   "execution_count": 37,
   "metadata": {},
   "outputs": [
    {
     "data": {
      "text/plain": [
       "OrdinalEncoder(cols=[['Drug']],\n",
       "               mapping=[{'col': 'Drug',\n",
       "                         'mapping': {'DrugY': 1, 'drugB': 3, 'drugC': 2,\n",
       "                                     'drugX': 0}}])"
      ]
     },
     "execution_count": 37,
     "metadata": {},
     "output_type": "execute_result"
    }
   ],
   "source": [
    "# instanciando o objeto \"encoder_label\" com os atributos qualitatvos (categóricos) dos dados da váriavel alvo\n",
    "encoder_label = ce.OrdinalEncoder(\n",
    "    cols=[['Drug']], return_df=True,\n",
    "    mapping=[\n",
    "        {'col': 'Drug', 'mapping': {'drugX': 0, 'DrugY': 1, 'drugC': 2, 'drugB': 3}}]\n",
    ")\n",
    "\n",
    "encoder_label"
   ]
  },
  {
   "cell_type": "markdown",
   "metadata": {},
   "source": [
    "Agora a próxima etapa é realizar a _padrponização dos dados_, também conhecido com `escalonamento` dos dados, isto é, deixar as variáveis numéricas em escalas próximas.\n",
    "\n",
    "\"... mantendo a informação estatística dos dados, é realizar uma transformação sobre o conjunto original dos dados de modo que cada variável apresente média zero e variância igual a um (autoescalonamento).\"\n",
    "\n",
    "**Saiba mais em:**\n",
    "- https://www.scielo.br/j/qn/a/b64d96fbT5jMHmnc48SdXnr/?lang=pt"
   ]
  },
  {
   "cell_type": "markdown",
   "metadata": {},
   "source": [
    "Os algoritmos `SVM's` são muito sensíveis a alta variabilidade dos dados. Para obtermos melhores resultados é importante à realização dessa estapa de _escalonamento_, pois as fronteiras de decisão se ajustam melhor com os dados em escala.\n",
    "\n",
    "Utlizaremos o algortimo `StandardScaler` para essa necessidade."
   ]
  },
  {
   "cell_type": "markdown",
   "metadata": {},
   "source": [
    "Como forma de otimização das etapas da transformação dos dados, farei uso da classe `Pipeline` do _sklearn_."
   ]
  },
  {
   "cell_type": "code",
   "execution_count": 38,
   "metadata": {},
   "outputs": [],
   "source": [
    "# importando a classe \"Pipeline\" do sklearn\n",
    "from sklearn.pipeline import Pipeline\n",
    "\n",
    "# importando a funçõa para realizar o escalonamento dos dados\n",
    "from sklearn.preprocessing import StandardScaler\n",
    "\n",
    "# importando as funções para auxiliar na aplicação da transfromação dos dados\n",
    "from sklearn.compose import ColumnTransformer,\\\n",
    "                            make_column_selector as selector"
   ]
  },
  {
   "cell_type": "code",
   "execution_count": 39,
   "metadata": {},
   "outputs": [],
   "source": [
    "# instanciando as variáveis explicativas (X) e a resposta (y) da cópia do conjunto de dados (df_copy) para aplicação das transformações\n",
    "X, y = df_copy.drop('Drug', axis=1), df_copy[['Drug']]"
   ]
  },
  {
   "cell_type": "code",
   "execution_count": 40,
   "metadata": {},
   "outputs": [
    {
     "name": "stdout",
     "output_type": "stream",
     "text": [
      "<class 'pandas.core.frame.DataFrame'>\n"
     ]
    },
    {
     "data": {
      "text/html": [
       "<div>\n",
       "<style scoped>\n",
       "    .dataframe tbody tr th:only-of-type {\n",
       "        vertical-align: middle;\n",
       "    }\n",
       "\n",
       "    .dataframe tbody tr th {\n",
       "        vertical-align: top;\n",
       "    }\n",
       "\n",
       "    .dataframe thead th {\n",
       "        text-align: right;\n",
       "    }\n",
       "</style>\n",
       "<table border=\"1\" class=\"dataframe\">\n",
       "  <thead>\n",
       "    <tr style=\"text-align: right;\">\n",
       "      <th></th>\n",
       "      <th>Age</th>\n",
       "      <th>Sex</th>\n",
       "      <th>BP</th>\n",
       "      <th>Cholesterol</th>\n",
       "      <th>Na_to_K</th>\n",
       "    </tr>\n",
       "  </thead>\n",
       "  <tbody>\n",
       "    <tr>\n",
       "      <th>46</th>\n",
       "      <td>45</td>\n",
       "      <td>M</td>\n",
       "      <td>LOW</td>\n",
       "      <td>HIGH</td>\n",
       "      <td>17.951</td>\n",
       "    </tr>\n",
       "    <tr>\n",
       "      <th>85</th>\n",
       "      <td>59</td>\n",
       "      <td>M</td>\n",
       "      <td>HIGH</td>\n",
       "      <td>HIGH</td>\n",
       "      <td>13.935</td>\n",
       "    </tr>\n",
       "    <tr>\n",
       "      <th>152</th>\n",
       "      <td>50</td>\n",
       "      <td>F</td>\n",
       "      <td>NORMAL</td>\n",
       "      <td>NORMAL</td>\n",
       "      <td>17.211</td>\n",
       "    </tr>\n",
       "    <tr>\n",
       "      <th>82</th>\n",
       "      <td>37</td>\n",
       "      <td>F</td>\n",
       "      <td>HIGH</td>\n",
       "      <td>HIGH</td>\n",
       "      <td>13.091</td>\n",
       "    </tr>\n",
       "    <tr>\n",
       "      <th>147</th>\n",
       "      <td>50</td>\n",
       "      <td>M</td>\n",
       "      <td>HIGH</td>\n",
       "      <td>HIGH</td>\n",
       "      <td>7.490</td>\n",
       "    </tr>\n",
       "  </tbody>\n",
       "</table>\n",
       "</div>"
      ],
      "text/plain": [
       "     Age Sex      BP Cholesterol  Na_to_K\n",
       "46    45   M     LOW        HIGH   17.951\n",
       "85    59   M    HIGH        HIGH   13.935\n",
       "152   50   F  NORMAL      NORMAL   17.211\n",
       "82    37   F    HIGH        HIGH   13.091\n",
       "147   50   M    HIGH        HIGH    7.490"
      ]
     },
     "execution_count": 40,
     "metadata": {},
     "output_type": "execute_result"
    }
   ],
   "source": [
    "# visualizando as 5 primeiras observações da variável X\n",
    "print(type(X))\n",
    "X[:5]"
   ]
  },
  {
   "cell_type": "code",
   "execution_count": 41,
   "metadata": {},
   "outputs": [
    {
     "name": "stdout",
     "output_type": "stream",
     "text": [
      "<class 'pandas.core.frame.DataFrame'>\n"
     ]
    },
    {
     "data": {
      "text/html": [
       "<div>\n",
       "<style scoped>\n",
       "    .dataframe tbody tr th:only-of-type {\n",
       "        vertical-align: middle;\n",
       "    }\n",
       "\n",
       "    .dataframe tbody tr th {\n",
       "        vertical-align: top;\n",
       "    }\n",
       "\n",
       "    .dataframe thead th {\n",
       "        text-align: right;\n",
       "    }\n",
       "</style>\n",
       "<table border=\"1\" class=\"dataframe\">\n",
       "  <thead>\n",
       "    <tr style=\"text-align: right;\">\n",
       "      <th></th>\n",
       "      <th>Drug</th>\n",
       "    </tr>\n",
       "  </thead>\n",
       "  <tbody>\n",
       "    <tr>\n",
       "      <th>46</th>\n",
       "      <td>DrugY</td>\n",
       "    </tr>\n",
       "    <tr>\n",
       "      <th>85</th>\n",
       "      <td>drugB</td>\n",
       "    </tr>\n",
       "    <tr>\n",
       "      <th>152</th>\n",
       "      <td>DrugY</td>\n",
       "    </tr>\n",
       "    <tr>\n",
       "      <th>82</th>\n",
       "      <td>drugA</td>\n",
       "    </tr>\n",
       "    <tr>\n",
       "      <th>147</th>\n",
       "      <td>drugA</td>\n",
       "    </tr>\n",
       "  </tbody>\n",
       "</table>\n",
       "</div>"
      ],
      "text/plain": [
       "      Drug\n",
       "46   DrugY\n",
       "85   drugB\n",
       "152  DrugY\n",
       "82   drugA\n",
       "147  drugA"
      ]
     },
     "execution_count": 41,
     "metadata": {},
     "output_type": "execute_result"
    }
   ],
   "source": [
    "# visualizando as 5 primeiras observações da variável y\n",
    "print(type(y))\n",
    "y[:5]"
   ]
  },
  {
   "cell_type": "code",
   "execution_count": 42,
   "metadata": {},
   "outputs": [],
   "source": [
    "# instanciando os objetos para realizar a separação dos atributos numéricos e categóricos\n",
    "numerical_columns_selector = selector(dtype_exclude=object)\n",
    "categorical_columns_selector = selector(dtype_include=object)\n",
    "\n",
    "# aplicando os objetos acima e realizando a separação dos atributos conforme sua distinção\n",
    "numerical_att_columns = numerical_columns_selector(X)\n",
    "categorical_att_columns = categorical_columns_selector(X)\n",
    "categorical_label = categorical_columns_selector(y)"
   ]
  },
  {
   "cell_type": "code",
   "execution_count": 43,
   "metadata": {},
   "outputs": [
    {
     "data": {
      "text/plain": [
       "(['Age', 'Na_to_K'], ['Sex', 'BP', 'Cholesterol'], ['Drug'])"
      ]
     },
     "execution_count": 43,
     "metadata": {},
     "output_type": "execute_result"
    }
   ],
   "source": [
    "# visualizando os atributos selecionados por cada objeto\n",
    "numerical_att_columns, categorical_att_columns, categorical_label"
   ]
  },
  {
   "cell_type": "code",
   "execution_count": 44,
   "metadata": {},
   "outputs": [
    {
     "data": {
      "text/plain": [
       "Pipeline(steps=[('std_scaler', StandardScaler())])"
      ]
     },
     "execution_count": 44,
     "metadata": {},
     "output_type": "execute_result"
    }
   ],
   "source": [
    "# instanciando o objeto \"Pipeline\" na variável \"num_pipeline\" dos atributos numéricos\n",
    "num_pipeline = Pipeline([\n",
    "    ('std_scaler', StandardScaler())\n",
    "])\n",
    "\n",
    "# visualizando o resultado\n",
    "num_pipeline"
   ]
  },
  {
   "cell_type": "code",
   "execution_count": 45,
   "metadata": {},
   "outputs": [
    {
     "data": {
      "text/plain": [
       "ColumnTransformer(transformers=[('num',\n",
       "                                 Pipeline(steps=[('std_scaler',\n",
       "                                                  StandardScaler())]),\n",
       "                                 ['Age', 'Na_to_K']),\n",
       "                                ('cat',\n",
       "                                 OrdinalEncoder(cols=[['Sex', 'BP',\n",
       "                                                       'Cholesterol']],\n",
       "                                                mapping=[{'col': 'Sex',\n",
       "                                                          'mapping': {'F': 0,\n",
       "                                                                      'M': 1}},\n",
       "                                                         {'col': 'BP',\n",
       "                                                          'mapping': {'HIGH': 2,\n",
       "                                                                      'LOW': 0,\n",
       "                                                                      'NORMAL': 1}},\n",
       "                                                         {'col': 'Cholesterol',\n",
       "                                                          'mapping': {'HIGH': 1,\n",
       "                                                                      'NORMAL': 0}}]),\n",
       "                                 ['Sex', 'BP', 'Cholesterol'])])"
      ]
     },
     "execution_count": 45,
     "metadata": {},
     "output_type": "execute_result"
    }
   ],
   "source": [
    "# aplicando os objetos \"num_pipeline\" (atributos numéricos) e \"encoder_att\" (atributos categóricos) das variáveis explicativas\n",
    "full_pipeline_att = ColumnTransformer([\n",
    "    ('num', num_pipeline, numerical_att_columns),\n",
    "    ('cat', encoder_att, categorical_att_columns)\n",
    "])\n",
    "\n",
    "# visualizando o resultado\n",
    "full_pipeline_att"
   ]
  },
  {
   "cell_type": "code",
   "execution_count": 46,
   "metadata": {},
   "outputs": [
    {
     "data": {
      "text/plain": [
       "ColumnTransformer(transformers=[('cat',\n",
       "                                 OrdinalEncoder(cols=[['Drug']],\n",
       "                                                mapping=[{'col': 'Drug',\n",
       "                                                          'mapping': {'DrugY': 1,\n",
       "                                                                      'drugB': 3,\n",
       "                                                                      'drugC': 2,\n",
       "                                                                      'drugX': 0}}]),\n",
       "                                 ['Drug'])])"
      ]
     },
     "execution_count": 46,
     "metadata": {},
     "output_type": "execute_result"
    }
   ],
   "source": [
    "# instanciando o objeto \"full_pipeline\" e utilizando a função \"ColumnTransformer\" para aplicar as transformações nas variáveis categóricas\n",
    "full_pipeline_label = ColumnTransformer([\n",
    "    ('cat', encoder_label, categorical_label)\n",
    "])\n",
    "\n",
    "full_pipeline_label"
   ]
  },
  {
   "cell_type": "code",
   "execution_count": 47,
   "metadata": {},
   "outputs": [],
   "source": [
    "# aplicando o objeto \"full_pipeline_att\" e o \"full_pipeline_label\" nas respectivas variávies X e y e realizando o treinamento e a transformação dos dados\n",
    "X_final = full_pipeline_att.fit_transform(X)\n",
    "y_final = full_pipeline_label.fit_transform(y)"
   ]
  },
  {
   "cell_type": "code",
   "execution_count": 48,
   "metadata": {},
   "outputs": [
    {
     "data": {
      "text/plain": [
       "array([[ 0.06391245,  0.3315393 ,  1.        ,  0.        ,  1.        ],\n",
       "       [ 0.91801526, -0.21928018,  1.        ,  2.        ,  1.        ],\n",
       "       [ 0.36894917,  0.23004368,  0.        ,  1.        ,  0.        ],\n",
       "       [-0.42414629, -0.33504005,  0.        ,  2.        ,  1.        ],\n",
       "       [ 0.36894917, -1.10325217,  1.        ,  2.        ,  1.        ]])"
      ]
     },
     "execution_count": 48,
     "metadata": {},
     "output_type": "execute_result"
    }
   ],
   "source": [
    "# visualizando as 5 primeiras observações e suas transformações realizadas da variável \"X_final\"\n",
    "X_final[:5]"
   ]
  },
  {
   "cell_type": "code",
   "execution_count": 49,
   "metadata": {},
   "outputs": [
    {
     "data": {
      "text/plain": [
       "array([[ 1.],\n",
       "       [ 3.],\n",
       "       [ 1.],\n",
       "       [-1.],\n",
       "       [-1.]])"
      ]
     },
     "execution_count": 49,
     "metadata": {},
     "output_type": "execute_result"
    }
   ],
   "source": [
    "# visualizando as 5 primeiras observações e suas transformações realizadas da variável \"y_final\"\n",
    "y_final[:5]"
   ]
  },
  {
   "cell_type": "markdown",
   "metadata": {},
   "source": [
    "**Treinando e avaliando o modelo `SVM`**"
   ]
  },
  {
   "cell_type": "markdown",
   "metadata": {},
   "source": [
    "Finalmente chegamos na etapa de aplicação do _SVM_, porém há algumas particularidades referente ao algoritmo em questão que devemos se atentar.\n",
    "\n",
    "Como o objetivo principal do _SVM_ é encontrar um `bom equilibrio entre manter a margem maior possível e limitar as violações de margem`, ou seja, observações que terminam no meio da margem ou na margem errada e, isso é conhecido como `classificação de margem suave`, podemos especificar alguns hiperparâmetros, como a regularização `\"C\"`.\n",
    "- se especificar muito baixo, teremos grandes quantidades de violação de margem.\n",
    "- e ao contrário, especificando muito alto, teremos bem menos violação de margem.\n",
    "\n",
    "Então o nosso desafio é encontrar esse equilíbrio, entretanto, é melhor ter algumas _violações de margem_, pois assim a capacidade de generalização do modelo é melhor."
   ]
  },
  {
   "cell_type": "markdown",
   "metadata": {},
   "source": [
    "Para esse primeiro treinamento do modelo, utilizaremos a classe `LinearSVC` e, também poderíamos utilizar a classe `SVC` especificando o _hiperparâmetro_, \"`kernel='linear'\"`. Nesse caso específico, iríamos considerar que os dados tivessem uma separação linear.\n",
    "\n",
    "Vamos para aplicação do modelo!"
   ]
  },
  {
   "cell_type": "code",
   "execution_count": 50,
   "metadata": {},
   "outputs": [],
   "source": [
    "# criando uma cópia dos dados\n",
    "X_cv = X_final.copy()\n",
    "y_cv = y_final.copy()"
   ]
  },
  {
   "cell_type": "code",
   "execution_count": 51,
   "metadata": {},
   "outputs": [],
   "source": [
    "# importando a função \"LinearSVC\"\n",
    "from sklearn.svm import LinearSVC"
   ]
  },
  {
   "cell_type": "code",
   "execution_count": 52,
   "metadata": {},
   "outputs": [],
   "source": [
    "# importando a função de métrica da validação cruzada\n",
    "from sklearn.model_selection import cross_val_score"
   ]
  },
  {
   "cell_type": "code",
   "execution_count": 53,
   "metadata": {},
   "outputs": [
    {
     "data": {
      "text/plain": [
       "LinearSVC(random_state=42)"
      ]
     },
     "execution_count": 53,
     "metadata": {},
     "output_type": "execute_result"
    }
   ],
   "source": [
    "# instanciando o modelo\n",
    "linearSVC_model = LinearSVC(random_state=42)\n",
    "linearSVC_model"
   ]
  },
  {
   "cell_type": "code",
   "execution_count": 54,
   "metadata": {},
   "outputs": [
    {
     "data": {
      "text/plain": [
       "array([0.69285714, 0.95353535, 0.81850226])"
      ]
     },
     "execution_count": 54,
     "metadata": {},
     "output_type": "execute_result"
    }
   ],
   "source": [
    "# aplicando o modelo\n",
    "linearSVC_scores = cross_val_score(\n",
    "    linearSVC_model, X_cv, y_cv,\n",
    "    scoring='f1_macro', cv=3\n",
    ")\n",
    "\n",
    "# visualizando o resultado\n",
    "linearSVC_scores"
   ]
  },
  {
   "cell_type": "code",
   "execution_count": 55,
   "metadata": {},
   "outputs": [],
   "source": [
    "# instanciando o resultado na variável \"linearSVC_f1score\"\n",
    "linearSVC_f1score = linearSVC_scores\n",
    "\n",
    "def display_scores(scores):\n",
    "    print(f'Scores: {scores}')\n",
    "    print(f'Média: {scores.mean()}')\n",
    "    print(f'Desvio-padrão: {scores.std()}')"
   ]
  },
  {
   "cell_type": "code",
   "execution_count": 56,
   "metadata": {},
   "outputs": [
    {
     "name": "stdout",
     "output_type": "stream",
     "text": [
      "Scores: [0.69285714 0.95353535 0.81850226]\n",
      "Média: 0.8216315868040006\n",
      "Desvio-padrão: 0.10644443582268823\n"
     ]
    }
   ],
   "source": [
    "# avaliando o modelo\n",
    "display_scores(linearSVC_f1score)"
   ]
  },
  {
   "cell_type": "markdown",
   "metadata": {},
   "source": [
    "> O `F1 score` foi de aproximadamente de _0,82_.\n",
    "\n",
    "Será que podemos melhorar esse resultado?\n",
    "\n",
    "Para isso, utilizaremos uma abordagem _não linear_, utilizando a especificação do **kernel** e, por fim avaliar o modelo novamente."
   ]
  },
  {
   "cell_type": "markdown",
   "metadata": {},
   "source": [
    "**Tipos de Kernel**\n",
    "\n",
    "- `Kernel polinomial`\n",
    "\n",
    "Uma forma de lidar com conjuntos de dados que não são separáveis linearmente, é utilizar a adição de características polinomiais (PolynomialFeatures). Essa classe é simples de se implementar e pode funcionar muito bem com todos os tipos de algoritmos de machine learning. Dessa forma, quando se trata de um baixo grau polinomial, esse método não pode lidar com conjunto de dados muito complexos e, se tratando de um alto grau polinomial, ele cria um grande número de características, fazendo com que o modelo fique bem lento. É aqui\n",
    "que entra o kernel. Essa técnica é uma alternativa a `\"polynomial features\"`.\n",
    "\n",
    "Conforme introduzimos acima, com as SVMs, podemos empregar uma técnica matemática poderosa (não iremos entrar em detalhes aqui), que se chama **truque do kernel**. Esse método possibilita obter o mesmo resultado, como se você tivesse adicionado muitas _características polinomiais_, mesmo com polinômios de alto grau, sem adicioná-las na prática. Assim, não ocorre uma explosão combinatória do número de características, porque você não adiciona\n",
    "nenhuma. Esse truque é implementado pela classe SVC.\n"
   ]
  },
  {
   "cell_type": "markdown",
   "metadata": {},
   "source": [
    "![](https://encrypted-tbn0.gstatic.com/images?q=tbn:ANd9GcTGmurrTLcHoWQZRQlAZqGWkcoOAADQaDX0ag&usqp=CAU)"
   ]
  },
  {
   "cell_type": "markdown",
   "metadata": {},
   "source": [
    "> Em essência, o que o truque do kernel faz por nós é oferecer uma maneira mais eficiente e menos dispendiosa (em comparação com a polynomial features, por exemplo) de transformar dados em dimensões mais altas."
   ]
  },
  {
   "cell_type": "markdown",
   "metadata": {},
   "source": [
    "- `Kernel gaussiano RBF`\n",
    "\n",
    "Outra técnica para lidar com problemas não lineares é adicionar características calculadas usando uma função de similaridade, que computa o quanto cada instância se assemelha a um ponto de referência específico. Sem entrar em muitos detalhes aqui, a idéia é basicamente a mesma do kernel polinomial, porém ao invés de utilizar características polinomiais, utilizaremos características de similaridade.\n",
    "\n",
    "Esse kernel vem como default da classe SVC na scikit-learn e é ele que iremos utilizar no código abaixo. Pórem devemos tomar o cuidado com o _overfitting_."
   ]
  },
  {
   "cell_type": "code",
   "execution_count": 57,
   "metadata": {},
   "outputs": [],
   "source": [
    "# importando a função \"SVC\"\n",
    "from sklearn.svm import SVC"
   ]
  },
  {
   "cell_type": "code",
   "execution_count": 58,
   "metadata": {},
   "outputs": [
    {
     "data": {
      "text/plain": [
       "SVC(random_state=42)"
      ]
     },
     "execution_count": 58,
     "metadata": {},
     "output_type": "execute_result"
    }
   ],
   "source": [
    "# instanciando o modelo e especificando o \"kernel='rbf'\"\n",
    "rbfSVC_model = SVC(kernel='rbf', random_state=42)\n",
    "rbfSVC_model"
   ]
  },
  {
   "cell_type": "code",
   "execution_count": 59,
   "metadata": {},
   "outputs": [
    {
     "data": {
      "text/plain": [
       "array([0.91666667, 0.89016377, 0.83128205])"
      ]
     },
     "execution_count": 59,
     "metadata": {},
     "output_type": "execute_result"
    }
   ],
   "source": [
    "# aplicando o modelo\n",
    "rbfSVC_scores = cross_val_score(\n",
    "    rbfSVC_model, X_cv, y_cv,\n",
    "    scoring='f1_macro', cv=3\n",
    ")\n",
    "\n",
    "# visualizando o resultado\n",
    "rbfSVC_scores"
   ]
  },
  {
   "cell_type": "code",
   "execution_count": 60,
   "metadata": {},
   "outputs": [
    {
     "name": "stdout",
     "output_type": "stream",
     "text": [
      "Scores: [0.91666667 0.89016377 0.83128205]\n",
      "Média: 0.8793708298869589\n",
      "Desvio-padrão: 0.03568378558978193\n"
     ]
    }
   ],
   "source": [
    "# avaliando o modelo\n",
    "display_scores(rbfSVC_scores)"
   ]
  },
  {
   "cell_type": "markdown",
   "metadata": {},
   "source": [
    "> Conseguimos melhorar um pouco os resultados!"
   ]
  },
  {
   "cell_type": "markdown",
   "metadata": {},
   "source": [
    "**Validando o modelo `SVM`**"
   ]
  },
  {
   "cell_type": "markdown",
   "metadata": {},
   "source": [
    "Agora, utilizaremos o conjunto de validação e, posteriormente avaliaremos os resultados do modelo."
   ]
  },
  {
   "cell_type": "code",
   "execution_count": 61,
   "metadata": {},
   "outputs": [],
   "source": [
    "# criando uma cópia do conjunto de dados de validação\n",
    "df_val = val_set.copy()"
   ]
  },
  {
   "cell_type": "code",
   "execution_count": 62,
   "metadata": {},
   "outputs": [],
   "source": [
    "# separando as variáveis explicativas (dependentes) e a variável resposta (independente)\n",
    "X_val = df_val.drop('Drug', axis=1)\n",
    "y_val = df_val[['Drug']]"
   ]
  },
  {
   "cell_type": "code",
   "execution_count": 63,
   "metadata": {},
   "outputs": [],
   "source": [
    "# aplicando o pipeline de preparação dos dados do conjunto de validação\n",
    "X_val_final = full_pipeline_att.fit_transform(X_val)\n",
    "y_val_final = full_pipeline_label.fit_transform(y_val)"
   ]
  },
  {
   "cell_type": "code",
   "execution_count": 64,
   "metadata": {},
   "outputs": [
    {
     "data": {
      "text/plain": [
       "LinearSVC(random_state=42)"
      ]
     },
     "execution_count": 64,
     "metadata": {},
     "output_type": "execute_result"
    }
   ],
   "source": [
    "# aplicando o modelo \n",
    "val_model = LinearSVC(random_state=42)\n",
    "val_model.fit(X_cv, y_cv)"
   ]
  },
  {
   "cell_type": "code",
   "execution_count": 66,
   "metadata": {},
   "outputs": [
    {
     "data": {
      "text/plain": [
       "array([ 1.,  0.,  1., -1.,  0.,  1.,  1.,  1.,  0.,  1.,  1.,  0., -1.,\n",
       "        1.,  2.,  3.,  1.,  2.,  0., -1.,  1.,  1.,  1.,  1.,  0.,  1.,\n",
       "       -1.,  2., -1.,  1.,  0.,  1.,  1.,  1.,  1.,  0.,  0.,  1.,  1.,\n",
       "        2.,  1.,  0.,  1.,  1.,  1.,  2.,  1.,  1.,  0.,  1.,  1.,  0.,\n",
       "        0.,  0.])"
      ]
     },
     "execution_count": 66,
     "metadata": {},
     "output_type": "execute_result"
    }
   ],
   "source": [
    "# realizando as predições com os dados de validação\n",
    "y_pred = val_model.predict(X_val_final)\n",
    "y_pred"
   ]
  },
  {
   "cell_type": "code",
   "execution_count": 67,
   "metadata": {},
   "outputs": [],
   "source": [
    "# importando as funções para relatório do modelo\n",
    "from sklearn.metrics import (accuracy_score,\n",
    "                             precision_score,\n",
    "                             recall_score,\n",
    "                             confusion_matrix, \n",
    "                             classification_report)"
   ]
  },
  {
   "cell_type": "code",
   "execution_count": 68,
   "metadata": {},
   "outputs": [
    {
     "name": "stdout",
     "output_type": "stream",
     "text": [
      "              precision    recall  f1-score   support\n",
      "\n",
      "        -1.0       0.60      1.00      0.75         3\n",
      "         0.0       1.00      1.00      1.00        14\n",
      "         1.0       1.00      0.91      0.95        32\n",
      "         2.0       0.60      1.00      0.75         3\n",
      "         3.0       1.00      0.50      0.67         2\n",
      "\n",
      "    accuracy                           0.93        54\n",
      "   macro avg       0.84      0.88      0.82        54\n",
      "weighted avg       0.96      0.93      0.93        54\n",
      "\n"
     ]
    }
   ],
   "source": [
    "print(classification_report(y_val_final, y_pred))"
   ]
  },
  {
   "cell_type": "code",
   "execution_count": 69,
   "metadata": {},
   "outputs": [
    {
     "name": "stdout",
     "output_type": "stream",
     "text": [
      "Acurácia geral: 0.9259259259259259\n",
      "Precisão geral: 0.8400000000000001\n",
      "Recall geral: 0.88125\n"
     ]
    }
   ],
   "source": [
    "print(f'Acurácia geral: {accuracy_score(y_val_final, y_pred)}')\n",
    "print(f'Precisão geral: {precision_score(y_val_final, y_pred, average=\"macro\")}')\n",
    "print(f'Recall geral: {recall_score(y_val_final, y_pred, average=\"macro\")}')"
   ]
  },
  {
   "cell_type": "code",
   "execution_count": 76,
   "metadata": {},
   "outputs": [
    {
     "name": "stdout",
     "output_type": "stream",
     "text": [
      "              precision    recall  f1-score   support\n",
      "\n",
      "        -1.0       0.60      1.00      0.75         3\n",
      "         0.0       1.00      1.00      1.00        14\n",
      "         1.0       1.00      0.91      0.95        32\n",
      "         2.0       0.60      1.00      0.75         3\n",
      "         3.0       1.00      0.50      0.67         2\n",
      "\n",
      "    accuracy                           0.93        54\n",
      "   macro avg       0.84      0.88      0.82        54\n",
      "weighted avg       0.96      0.93      0.93        54\n",
      "\n",
      "Acurácia geral: 0.9259259259259259\n",
      "Precisão geral: 0.8400000000000001\n",
      "Recall geral: 0.88125\n"
     ]
    },
    {
     "data": {
      "image/png": "[encoded data removed]",
      "text/plain": [
       "<Figure size 648x360 with 2 Axes>"
      ]
     },
     "metadata": {},
     "output_type": "display_data"
    }
   ],
   "source": [
    "# imprimindo o relatório de classificação dos dados de validação do modelo\n",
    "print(classification_report(y_val_final, y_pred))\n",
    "\n",
    "print(f'Acurácia geral: {accuracy_score(y_val_final, y_pred)}')\n",
    "print(\n",
    "    f'Precisão geral: {precision_score(y_val_final, y_pred, average=\"macro\")}')\n",
    "print(\n",
    "    f'Recall geral: {recall_score(y_val_final, y_pred, average=\"macro\")}')\n",
    "\n",
    "# visualizando graficamente a matriz de confusão dos dados de validação do modelo\n",
    "fig = plt.figure(figsize=[9, 5])\n",
    "fig.suptitle('Matriz de Confusão\\n', fontsize=16, fontweight='bold')\n",
    "\n",
    "sns.heatmap(confusion_matrix(y_val_final, y_pred),\n",
    "            cmap='Blues', annot=True, fmt='.0f')\n",
    "plt.title('SVM - validação', fontsize=14)\n",
    "plt.xticks()\n",
    "plt.yticks()\n",
    "\n",
    "plt.show()\n"
   ]
  },
  {
   "cell_type": "markdown",
   "metadata": {},
   "source": [
    "> Com o _plot_ da `Matriz de Confusão` podemos melhor visualizar os resultados de acertos e erros do modelo.<br><br> Para a **classe 2**, de 32 observações no total, 3 foram classificadas erradas, ou seja, aproximadamente 9% de erro. <br>E para a **classe 4** que possui somente duas observações, uma classificada erroneamente, 50% de erro. <br>Já para as demais classes, 100% de acertos!"
   ]
  },
  {
   "cell_type": "markdown",
   "metadata": {},
   "source": [
    "**Testando o modelo**"
   ]
  },
  {
   "cell_type": "markdown",
   "metadata": {},
   "source": [
    "Por fim, utilizaremos o conjunto de dados `test_data` para testarmos o nosso modelo final"
   ]
  },
  {
   "cell_type": "code",
   "execution_count": 70,
   "metadata": {},
   "outputs": [],
   "source": [
    "# criando uma cópia do conjunto de dados de teste\n",
    "df_test = test_data.copy()"
   ]
  },
  {
   "cell_type": "code",
   "execution_count": 71,
   "metadata": {},
   "outputs": [],
   "source": [
    "# separando as variáveis explicativas (dependentes) e a variável resposta (independente)\n",
    "X_test = df_test.drop('Drug', axis=1)\n",
    "y_test = df_test[['Drug']]"
   ]
  },
  {
   "cell_type": "code",
   "execution_count": 72,
   "metadata": {},
   "outputs": [],
   "source": [
    "# aplicando o pipeline de preparação dos dados do conjunto de teste\n",
    "X_test_final = full_pipeline_att.fit_transform(X_test)\n",
    "y_test_final = full_pipeline_label.fit_transform(y_test)\n"
   ]
  },
  {
   "cell_type": "code",
   "execution_count": 73,
   "metadata": {},
   "outputs": [
    {
     "data": {
      "text/plain": [
       "LinearSVC(random_state=42)"
      ]
     },
     "execution_count": 73,
     "metadata": {},
     "output_type": "execute_result"
    }
   ],
   "source": [
    "# aplicando o modelo\n",
    "test_model = LinearSVC(random_state=42)\n",
    "test_model.fit(X_cv, y_cv)\n"
   ]
  },
  {
   "cell_type": "code",
   "execution_count": 74,
   "metadata": {},
   "outputs": [
    {
     "data": {
      "text/plain": [
       "array([2., 0., 1., 1., 1., 1., 2., 1., 1., 2., 0., 0., 0., 1., 1., 2., 3.,\n",
       "       1., 1., 0.])"
      ]
     },
     "execution_count": 74,
     "metadata": {},
     "output_type": "execute_result"
    }
   ],
   "source": [
    "# realizando as predições com os dados de teste\n",
    "y_pred_final = val_model.predict(X_test_final)\n",
    "y_pred_final\n"
   ]
  },
  {
   "cell_type": "code",
   "execution_count": 75,
   "metadata": {},
   "outputs": [
    {
     "name": "stdout",
     "output_type": "stream",
     "text": [
      "              precision    recall  f1-score   support\n",
      "\n",
      "           0       1.00      1.00      1.00         5\n",
      "           1       1.00      0.91      0.95        11\n",
      "           2       0.75      1.00      0.86         3\n",
      "           3       1.00      1.00      1.00         1\n",
      "\n",
      "    accuracy                           0.95        20\n",
      "   macro avg       0.94      0.98      0.95        20\n",
      "weighted avg       0.96      0.95      0.95        20\n",
      "\n",
      "Acurácia geral: 0.95\n",
      "Precisão geral: 0.9375\n",
      "Recall geral: 0.9772727272727273\n"
     ]
    },
    {
     "data": {
      "image/png": "[encoded data removed]",
      "text/plain": [
       "<Figure size 648x360 with 2 Axes>"
      ]
     },
     "metadata": {},
     "output_type": "display_data"
    }
   ],
   "source": [
    "# imprimindo o relatório de classificação dos dados de teste do modelo\n",
    "print(classification_report(y_test_final, y_pred_final))\n",
    "\n",
    "print(f'Acurácia geral: {accuracy_score(y_test_final, y_pred_final)}')\n",
    "print(f'Precisão geral: {precision_score(y_test_final, y_pred_final, average=\"macro\")}')\n",
    "print(f'Recall geral: {recall_score(y_test_final, y_pred_final, average=\"macro\")}')\n",
    "\n",
    "# visualizando graficamente a matriz de confusão dos dados de teste do modelo\n",
    "fig = plt.figure(figsize=[9, 5])\n",
    "fig.suptitle('Matriz de Confusão\\n', fontsize=16, fontweight='bold')\n",
    "\n",
    "sns.heatmap(confusion_matrix(y_test_final, y_pred_final),\n",
    "            cmap='Blues', annot=True, fmt='.0f')\n",
    "plt.title('SVM - teste', fontsize=14)\n",
    "plt.xticks()\n",
    "plt.yticks()\n",
    "\n",
    "plt.show()\n"
   ]
  },
  {
   "cell_type": "markdown",
   "metadata": {},
   "source": [
    "> Com o _plot_ da `Matriz de Confusão` do conjunto de dados de teste (`test_data`) tivemos resultados melhores com as predições.<br><br> Somente a **classe 1**, teve uma observação classificada errada entre 11 observações no total. <br>E as demais classes, 100% de acertos! <br><br>Aliás, todas as métricas apresentaram resultadas **excelentes** como podemos ver acima!"
   ]
  },
  {
   "cell_type": "markdown",
   "metadata": {},
   "source": [
    "#### **Conclusão final**"
   ]
  },
  {
   "cell_type": "markdown",
   "metadata": {},
   "source": [
    "Passamos brevemente por algumas etapas de um projeto de `Ciência de Dados` com foco em entender melhor como funciona o algoritmo SVM. Neste projeto passamos por:\n",
    "- Introdução;\n",
    "- Coleta dos dados;\n",
    "- Análise exploratória dos dados;\n",
    "- Preparação dos dados;\n",
    "- Treinar e avaliar alguns modelos SVM;\n",
    "- Teste do modelo final.\n"
   ]
  },
  {
   "cell_type": "markdown",
   "metadata": {},
   "source": [
    "**Info**\n",
    "\n",
    "Projeto desenvolvido utilizando a _IDE_ `VS Code` e a extensão para `Jupyter Notebook`."
   ]
  },
  {
   "cell_type": "code",
   "execution_count": null,
   "metadata": {},
   "outputs": [],
   "source": []
  },
  {
   "cell_type": "code",
   "execution_count": null,
   "metadata": {},
   "outputs": [],
   "source": []
  },
  {
   "cell_type": "code",
   "execution_count": null,
   "metadata": {},
   "outputs": [],
   "source": []
  }
 ],
 "metadata": {
  "interpreter": {
   "hash": "6bafd6474ce4b62c03605d0b33fc5128bd027b02227412e991dce6264322d045"
  },
  "kernelspec": {
   "display_name": "Python 3.9.10 64-bit (windows store)",
   "language": "python",
   "name": "python3"
  },
  "language_info": {
   "codemirror_mode": {
    "name": "ipython",
    "version": 3
   },
   "file_extension": ".py",
   "mimetype": "text/x-python",
   "name": "python",
   "nbconvert_exporter": "python",
   "pygments_lexer": "ipython3",
   "version": "3.9.10"
  },
  "orig_nbformat": 4
 },
 "nbformat": 4,
 "nbformat_minor": 2
}
