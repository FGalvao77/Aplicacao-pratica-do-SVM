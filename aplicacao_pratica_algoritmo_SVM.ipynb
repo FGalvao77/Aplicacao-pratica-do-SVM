{
 "cells": [
  {
   "cell_type": "markdown",
   "metadata": {},
   "source": [
    "### **Aplicação do Support Vector Machines (SVM)**\n",
    "---"
   ]
  },
  {
   "cell_type": "markdown",
   "metadata": {},
   "source": [
    "#### **Introdução**"
   ]
  },
  {
   "cell_type": "markdown",
   "metadata": {},
   "source": [
    "Uma **máquina de vetores de suporte** (_SVM_, do inglês: `support-vector machine`) é um conceito na [ciência da computação](https://pt.wikipedia.org/wiki/Ci%C3%AAncia_da_computa%C3%A7%C3%A3o) para um conjunto de métodos de aprendizado supervisionado que analisam os dados e reconhecem padrões, usado para classificação e análise de [regressão](https://pt.wikipedia.org/wiki/Aprendizagem_de_m%C3%A1quina). O SVM padrão toma como entrada um conjunto de dados e prediz, para cada entrada dada, qual de duas possíveis classes a entrada faz parte, o que faz do SVM um classificador linear binário não probabilístico. Dados um conjunto de exemplos de treinamento, cada um marcado como pertencente a uma de duas categorias, um [algoritmo](https://pt.wikipedia.org/wiki/Algoritmo) de treinamento do SVM constrói um modelo que atribui novos exemplos a uma categoria ou outra. Um modelo SVM é uma representação de exemplos como pontos no espaço, mapeados de maneira que os exemplos de cada categoria sejam divididos por um espaço claro que seja tão amplo quanto possível. Os novos exemplos são então mapeados no mesmo espaço e preditos como pertencentes a uma categoria baseados em qual o lado do espaço eles são colocados.\n",
    "\n",
    "Em outras palavras, o que uma SVM faz é encontrar uma linha de separação, mais comumente chamada de [hiperplano](https://pt.wikipedia.org/wiki/Hiperplano) entre dados de duas classes. Essa linha busca maximizar a distância entre os pontos mais próximos em relação a cada uma das classes, ver imagem:"
   ]
  },
  {
   "cell_type": "markdown",
   "metadata": {},
   "source": [
    "![](https://upload.wikimedia.org/wikipedia/commons/3/31/%D7%9E%D7%9B%D7%95%D7%A0%D7%AA_%D7%95%D7%95%D7%A7%D7%98%D7%A8%D7%99%D7%9D_%D7%AA%D7%95%D7%9E%D7%9B%D7%99%D7%9D_%D7%93%D7%95%D7%92%D7%9E%D7%90.jpg)"
   ]
  },
  {
   "cell_type": "markdown",
   "metadata": {},
   "source": [
    "Essa distância entre o _hiperplano_ e o primeiro ponto de cada classe costuma ser chamada de margem. A SVM coloca em primeiro lugar a classificação das classes, definindo assim cada ponto pertencente a cada uma das classes, e em seguida maximiza a margem. Ou seja, ela primeiro classifica as classes corretamente e depois em função dessa restrição define a distância entre as margens.\n",
    "\n",
    "**Algumas características:**\n",
    "\n",
    "- Em caso de [outlier](https://pt.wikipedia.org/wiki/Outlier) a SVM busca a melhor forma possível de classificação e, se necessário, desconsidera o outlier;\n",
    "- Funciona muito bem em domínios complicados, em que existe uma clara margem de separação;\n",
    "- Não funciona bem em conjuntos de dados muito grandes, pois exige [inversão de matriz](https://pt.wikipedia.org/wiki/Matriz_inversa) - aumentando a [complexidade computacional](https://pt.wikipedia.org/wiki/Complexidade_computacional_de_opera%C3%A7%C3%B5es_matem%C3%A1ticas) com até o cubo do volume de dados;\n",
    "- Não funciona bem em conjunto de dados com grande quantidade de ruídos;\n",
    "Se as classes estiverem muito sobrepostas deve-se utilizar apenas evidências independentes (devido ao fato de não ser muito bom com dados com muitos ruídos);"
   ]
  },
  {
   "cell_type": "markdown",
   "metadata": {},
   "source": [
    "**Fonte:** [Wikipedia](https://pt.wikipedia.org/wiki/M%C3%A1quina_de_vetores_de_suporte)"
   ]
  },
  {
   "cell_type": "markdown",
   "metadata": {},
   "source": [
    "#### **Praticando...**"
   ]
  },
  {
   "cell_type": "markdown",
   "metadata": {},
   "source": [
    "Para atividade prática da utilização do `SVM`, utilizarei o conjunto de dados do [Kaggle](https://www.kaggle.com/) que pode acessar através desse [link](https://www.kaggle.com/prathamtripathi/drug-classification)."
   ]
  },
  {
   "cell_type": "markdown",
   "metadata": {},
   "source": [
    "**Contexto**\n",
    "\n",
    "O nosso desafio é _prever_ o resultado dos medicamentos que podem ser prescritos para um determindado paciente, dadas algumas variáveis, como:\n",
    "- `Age`: idade do paciente;\n",
    "- `Sex`: sexo;\n",
    "- `BP`: níveis de Pressão Arterial(PA);\n",
    "- `Cholesterol`: níveis de colesterol;\n",
    "- `Na_to_K`: relação de sódio e potássio no sangue do paciente e,\n",
    "- `Drug`: tipo de medicamento (varáivel alvo);\n"
   ]
  },
  {
   "cell_type": "markdown",
   "metadata": {},
   "source": [
    "**Começando!**"
   ]
  },
  {
   "cell_type": "code",
   "execution_count": 130,
   "metadata": {},
   "outputs": [],
   "source": [
    "# biblioteca para ignorar mensagens de alerta\n",
    "import warnings\n",
    "warnings.filterwarnings('ignore')"
   ]
  },
  {
   "cell_type": "code",
   "execution_count": 131,
   "metadata": {},
   "outputs": [
    {
     "name": "stdout",
     "output_type": "stream",
     "text": [
      "3.9.10\n"
     ]
    }
   ],
   "source": [
    "# versão do python utilizada\n",
    "from platform import python_version\n",
    "print(python_version())"
   ]
  },
  {
   "cell_type": "markdown",
   "metadata": {},
   "source": [
    "Importarei o conjunto de dados do meu repositório pessoal do `GitHub`."
   ]
  },
  {
   "cell_type": "code",
   "execution_count": 132,
   "metadata": {},
   "outputs": [],
   "source": [
    "# instanciando a url no objeto \"path\"\n",
    "path = 'https://raw.githubusercontent.com/FGalvao77/datasets/main/drug200.csv'"
   ]
  },
  {
   "cell_type": "code",
   "execution_count": 133,
   "metadata": {},
   "outputs": [],
   "source": [
    "# importando a biblioteca para análise e manipulação de dados\n",
    "import pandas as pd"
   ]
  },
  {
   "cell_type": "code",
   "execution_count": 134,
   "metadata": {},
   "outputs": [],
   "source": [
    "# carregando o conjunto de dados no objeto \"df\"\n",
    "df = pd.read_csv(path)"
   ]
  },
  {
   "cell_type": "markdown",
   "metadata": {},
   "source": [
    "**Análise exploratória do conjunto de dados**"
   ]
  },
  {
   "cell_type": "code",
   "execution_count": 135,
   "metadata": {},
   "outputs": [
    {
     "data": {
      "text/html": [
       "<div>\n",
       "<style scoped>\n",
       "    .dataframe tbody tr th:only-of-type {\n",
       "        vertical-align: middle;\n",
       "    }\n",
       "\n",
       "    .dataframe tbody tr th {\n",
       "        vertical-align: top;\n",
       "    }\n",
       "\n",
       "    .dataframe thead th {\n",
       "        text-align: right;\n",
       "    }\n",
       "</style>\n",
       "<table border=\"1\" class=\"dataframe\">\n",
       "  <thead>\n",
       "    <tr style=\"text-align: right;\">\n",
       "      <th></th>\n",
       "      <th>Age</th>\n",
       "      <th>Sex</th>\n",
       "      <th>BP</th>\n",
       "      <th>Cholesterol</th>\n",
       "      <th>Na_to_K</th>\n",
       "      <th>Drug</th>\n",
       "    </tr>\n",
       "  </thead>\n",
       "  <tbody>\n",
       "    <tr>\n",
       "      <th>0</th>\n",
       "      <td>23</td>\n",
       "      <td>F</td>\n",
       "      <td>HIGH</td>\n",
       "      <td>HIGH</td>\n",
       "      <td>25.355</td>\n",
       "      <td>DrugY</td>\n",
       "    </tr>\n",
       "    <tr>\n",
       "      <th>1</th>\n",
       "      <td>47</td>\n",
       "      <td>M</td>\n",
       "      <td>LOW</td>\n",
       "      <td>HIGH</td>\n",
       "      <td>13.093</td>\n",
       "      <td>drugC</td>\n",
       "    </tr>\n",
       "    <tr>\n",
       "      <th>2</th>\n",
       "      <td>47</td>\n",
       "      <td>M</td>\n",
       "      <td>LOW</td>\n",
       "      <td>HIGH</td>\n",
       "      <td>10.114</td>\n",
       "      <td>drugC</td>\n",
       "    </tr>\n",
       "    <tr>\n",
       "      <th>3</th>\n",
       "      <td>28</td>\n",
       "      <td>F</td>\n",
       "      <td>NORMAL</td>\n",
       "      <td>HIGH</td>\n",
       "      <td>7.798</td>\n",
       "      <td>drugX</td>\n",
       "    </tr>\n",
       "    <tr>\n",
       "      <th>4</th>\n",
       "      <td>61</td>\n",
       "      <td>F</td>\n",
       "      <td>LOW</td>\n",
       "      <td>HIGH</td>\n",
       "      <td>18.043</td>\n",
       "      <td>DrugY</td>\n",
       "    </tr>\n",
       "  </tbody>\n",
       "</table>\n",
       "</div>"
      ],
      "text/plain": [
       "   Age Sex      BP Cholesterol  Na_to_K   Drug\n",
       "0   23   F    HIGH        HIGH   25.355  DrugY\n",
       "1   47   M     LOW        HIGH   13.093  drugC\n",
       "2   47   M     LOW        HIGH   10.114  drugC\n",
       "3   28   F  NORMAL        HIGH    7.798  drugX\n",
       "4   61   F     LOW        HIGH   18.043  DrugY"
      ]
     },
     "execution_count": 135,
     "metadata": {},
     "output_type": "execute_result"
    }
   ],
   "source": [
    "# visualizando as 5 primeiras observações\n",
    "df.head()"
   ]
  },
  {
   "cell_type": "code",
   "execution_count": 136,
   "metadata": {},
   "outputs": [
    {
     "data": {
      "text/plain": [
       "Age            0\n",
       "Sex            0\n",
       "BP             0\n",
       "Cholesterol    0\n",
       "Na_to_K        0\n",
       "Drug           0\n",
       "dtype: int64"
      ]
     },
     "execution_count": 136,
     "metadata": {},
     "output_type": "execute_result"
    }
   ],
   "source": [
    "# verificando se há presença de valores nulos\n",
    "df.isnull().sum()"
   ]
  },
  {
   "cell_type": "code",
   "execution_count": 137,
   "metadata": {},
   "outputs": [
    {
     "data": {
      "text/plain": [
       "(200, 6)"
      ]
     },
     "execution_count": 137,
     "metadata": {},
     "output_type": "execute_result"
    }
   ],
   "source": [
    "# dimensão do conjunto de dados\n",
    "df.shape    # linhas e colunas"
   ]
  },
  {
   "cell_type": "code",
   "execution_count": 138,
   "metadata": {},
   "outputs": [
    {
     "name": "stdout",
     "output_type": "stream",
     "text": [
      "<class 'pandas.core.frame.DataFrame'>\n",
      "RangeIndex: 200 entries, 0 to 199\n",
      "Data columns (total 6 columns):\n",
      " #   Column       Non-Null Count  Dtype  \n",
      "---  ------       --------------  -----  \n",
      " 0   Age          200 non-null    int64  \n",
      " 1   Sex          200 non-null    object \n",
      " 2   BP           200 non-null    object \n",
      " 3   Cholesterol  200 non-null    object \n",
      " 4   Na_to_K      200 non-null    float64\n",
      " 5   Drug         200 non-null    object \n",
      "dtypes: float64(1), int64(1), object(4)\n",
      "memory usage: 9.5+ KB\n"
     ]
    }
   ],
   "source": [
    "# informações gerais\n",
    "df.info()"
   ]
  },
  {
   "cell_type": "markdown",
   "metadata": {},
   "source": [
    "Se acaso, seja necessário a instalção da biblioteca do `seaborn`, descomente o código e execute-o."
   ]
  },
  {
   "cell_type": "code",
   "execution_count": 139,
   "metadata": {},
   "outputs": [],
   "source": [
    "#pip install seaborn"
   ]
  },
  {
   "cell_type": "code",
   "execution_count": 140,
   "metadata": {},
   "outputs": [],
   "source": [
    "# importando as bibliotecas para visualização gráfica\n",
    "import matplotlib.pyplot as plt\n",
    "import seaborn as sns\n",
    "\n",
    "# configurando o ambiente\n",
    "%matplotlib inline\n",
    "sns.set_theme(style='ticks', palette='pastel')"
   ]
  },
  {
   "cell_type": "code",
   "execution_count": 143,
   "metadata": {},
   "outputs": [
    {
     "data": {
      "image/png": "[encoded data removed]",
      "text/plain": [
       "<Figure size 936x504 with 1 Axes>"
      ]
     },
     "metadata": {},
     "output_type": "display_data"
    }
   ],
   "source": [
    "# gráfico de histograma da distribuição da variável Age (idade) X Sex (sexo)\n",
    "plt.figure(figsize=(13,7))\n",
    "\n",
    "plt.title('\\nDistribuição da idade por sexo\\n', \n",
    "          {'fontsize': 14,'fontweight': 'bold'})\n",
    "sns.histplot(data=df, x='Age', hue='Sex', element= 'step', fill=False);"
   ]
  },
  {
   "cell_type": "code",
   "execution_count": 144,
   "metadata": {},
   "outputs": [
    {
     "data": {
      "image/png": "[encoded data removed]",
      "text/plain": [
       "<Figure size 1008x504 with 1 Axes>"
      ]
     },
     "metadata": {},
     "output_type": "display_data"
    }
   ],
   "source": [
    "# gráfico de barras da distribuição das observações do atributo \"Sex\"\n",
    "plt.figure(figsize=(14,7))\n",
    "\n",
    "plt.title('\\nDistribuição dos dados do atributo \"Sex\"\\n', \n",
    "          {'fontsize': 14, 'fontweight': 'bold'})\n",
    "sns.countplot(data=df, y='Sex')\n",
    "plt.ylabel('Classes\\n [F = feminino | M = masculino]')\n",
    "plt.xlabel('Quantidade');"
   ]
  },
  {
   "cell_type": "code",
   "execution_count": 14,
   "metadata": {},
   "outputs": [],
   "source": [
    "# frequências da variávies qualitativas\n",
    "#qualitative_vars = ['Sex', 'BP', 'Cholesterol', 'Drug']\n",
    "#qualitative_vars"
   ]
  },
  {
   "cell_type": "code",
   "execution_count": 145,
   "metadata": {},
   "outputs": [
    {
     "data": {
      "text/plain": [
       "Index(['Sex', 'BP', 'Cholesterol', 'Drug'], dtype='object')"
      ]
     },
     "execution_count": 145,
     "metadata": {},
     "output_type": "execute_result"
    }
   ],
   "source": [
    "# instanciando as variáveis qualitativas do conjunto de dados\n",
    "qualitative_vars = df.select_dtypes(include='object').columns\n",
    "\n",
    "# visualizando o resultado da seleção\n",
    "qualitative_vars"
   ]
  },
  {
   "cell_type": "code",
   "execution_count": 146,
   "metadata": {},
   "outputs": [
    {
     "data": {
      "image/png": "[encoded data removed]",
      "text/plain": [
       "<Figure size 432x288 with 1 Axes>"
      ]
     },
     "metadata": {},
     "output_type": "display_data"
    },
    {
     "data": {
      "image/png": "[encoded data removed]",
      "text/plain": [
       "<Figure size 432x288 with 1 Axes>"
      ]
     },
     "metadata": {},
     "output_type": "display_data"
    },
    {
     "data": {
      "image/png": "[encoded data removed]",
      "text/plain": [
       "<Figure size 432x288 with 1 Axes>"
      ]
     },
     "metadata": {},
     "output_type": "display_data"
    },
    {
     "data": {
      "image/png": "[encoded data removed]",
      "text/plain": [
       "<Figure size 432x288 with 1 Axes>"
      ]
     },
     "metadata": {},
     "output_type": "display_data"
    }
   ],
   "source": [
    "# plotando gráficos de barras da distribuição das observações das variáveis qualitativas\n",
    "for col in qualitative_vars:\n",
    "    fig, ax = plt.subplots()\n",
    "    sns.countplot(x=col, data=df, ax=ax)\n",
    "    ax.set_title('Distribuição das observações na variável')\n",
    "    plt.show()"
   ]
  },
  {
   "cell_type": "markdown",
   "metadata": {},
   "source": [
    "> Todas as variáveis estão bem distribuídas, exceto a variável alvo `\"Drug\"`. <br><br>Isso pode causar problemas de desempenho no algoritmo, visto que, ele pode ficar muito bom em prever uma determinada classe e não tão bom assim em outras. <br>Talvez fosse interessante estudar alguma técnica de balanceamento como **RandomUnderSampler** ou **RandomOverSampler**."
   ]
  },
  {
   "cell_type": "code",
   "execution_count": 147,
   "metadata": {},
   "outputs": [
    {
     "data": {
      "image/png": "[encoded data removed]",
      "text/plain": [
       "<Figure size 1080x648 with 2 Axes>"
      ]
     },
     "metadata": {},
     "output_type": "display_data"
    }
   ],
   "source": [
    "# gráfico de histograma da distribuição das observações das variáveis quantitativas\n",
    "df.hist(bins=50, figsize=(15,9));"
   ]
  },
  {
   "cell_type": "code",
   "execution_count": 148,
   "metadata": {},
   "outputs": [
    {
     "data": {
      "text/html": [
       "<div>\n",
       "<style scoped>\n",
       "    .dataframe tbody tr th:only-of-type {\n",
       "        vertical-align: middle;\n",
       "    }\n",
       "\n",
       "    .dataframe tbody tr th {\n",
       "        vertical-align: top;\n",
       "    }\n",
       "\n",
       "    .dataframe thead th {\n",
       "        text-align: right;\n",
       "    }\n",
       "</style>\n",
       "<table border=\"1\" class=\"dataframe\">\n",
       "  <thead>\n",
       "    <tr style=\"text-align: right;\">\n",
       "      <th></th>\n",
       "      <th>Age</th>\n",
       "      <th>Na_to_K</th>\n",
       "    </tr>\n",
       "  </thead>\n",
       "  <tbody>\n",
       "    <tr>\n",
       "      <th>count</th>\n",
       "      <td>200.000000</td>\n",
       "      <td>200.000000</td>\n",
       "    </tr>\n",
       "    <tr>\n",
       "      <th>mean</th>\n",
       "      <td>44.315000</td>\n",
       "      <td>16.084485</td>\n",
       "    </tr>\n",
       "    <tr>\n",
       "      <th>std</th>\n",
       "      <td>16.544315</td>\n",
       "      <td>7.223956</td>\n",
       "    </tr>\n",
       "    <tr>\n",
       "      <th>min</th>\n",
       "      <td>15.000000</td>\n",
       "      <td>6.269000</td>\n",
       "    </tr>\n",
       "    <tr>\n",
       "      <th>25%</th>\n",
       "      <td>31.000000</td>\n",
       "      <td>10.445500</td>\n",
       "    </tr>\n",
       "    <tr>\n",
       "      <th>50%</th>\n",
       "      <td>45.000000</td>\n",
       "      <td>13.936500</td>\n",
       "    </tr>\n",
       "    <tr>\n",
       "      <th>75%</th>\n",
       "      <td>58.000000</td>\n",
       "      <td>19.380000</td>\n",
       "    </tr>\n",
       "    <tr>\n",
       "      <th>max</th>\n",
       "      <td>74.000000</td>\n",
       "      <td>38.247000</td>\n",
       "    </tr>\n",
       "  </tbody>\n",
       "</table>\n",
       "</div>"
      ],
      "text/plain": [
       "              Age     Na_to_K\n",
       "count  200.000000  200.000000\n",
       "mean    44.315000   16.084485\n",
       "std     16.544315    7.223956\n",
       "min     15.000000    6.269000\n",
       "25%     31.000000   10.445500\n",
       "50%     45.000000   13.936500\n",
       "75%     58.000000   19.380000\n",
       "max     74.000000   38.247000"
      ]
     },
     "execution_count": 148,
     "metadata": {},
     "output_type": "execute_result"
    }
   ],
   "source": [
    "# dados estatístico das variáveis quantitativas\n",
    "df.describe()"
   ]
  },
  {
   "cell_type": "code",
   "execution_count": 149,
   "metadata": {},
   "outputs": [
    {
     "data": {
      "image/png": "[encoded data removed]",
      "text/plain": [
       "<Figure size 1008x504 with 2 Axes>"
      ]
     },
     "metadata": {},
     "output_type": "display_data"
    }
   ],
   "source": [
    "# plotando gráficos - boxplot e histograma da distribuição dos dados da variável \"Age\" (idade)\n",
    "mean = df['Age'].mean()     # média\n",
    "median = df['Age'].median() # mediana\n",
    "mode = df['Age'].mode()[0]  # moda\n",
    "\n",
    "fig, (ax_box, ax_hist) = plt.subplots(2, sharex=True, \n",
    "                                      figsize=(14,7))\n",
    "\n",
    "sns.boxplot(data=df, x='Age', ax=ax_box, color='lightblue')\n",
    "ax_box.axvline(mean, color='red', linestyle='--', linewidth=4)\n",
    "ax_box.axvline(median, color='green', linestyle='-', linewidth=4)\n",
    "ax_box.axvline(mode, color='orange', linestyle='--', linewidth=4)\n",
    "ax_box.set(xlabel='')\n",
    "ax_box.set_title('\\nDistribuição dos dados da variável \"Age\" (idade)\\n',\n",
    "                 {'fontsize': 14,'fontweight': 'bold'})\n",
    "\n",
    "sns.histplot(data=df, x='Age', ax=ax_hist, kde=True, bins=50, color='blue')\n",
    "ax_hist.axvline(mean, color='red', linestyle='--', label='Média', linewidth=4)\n",
    "ax_hist.axvline(median, color='green', linestyle='-', label='Mediana', linewidth=4)\n",
    "ax_hist.axvline(mode, color='orange', linestyle='--', label='Moda', linewidth=4)\n",
    "\n",
    "ax_hist.legend()\n",
    "plt.tight_layout();"
   ]
  },
  {
   "cell_type": "code",
   "execution_count": 150,
   "metadata": {},
   "outputs": [
    {
     "data": {
      "image/png": "[encoded data removed]",
      "text/plain": [
       "<Figure size 1008x504 with 2 Axes>"
      ]
     },
     "metadata": {},
     "output_type": "display_data"
    }
   ],
   "source": [
    "# plotando gráficos - boxplot e histograma da distribuição dos dados da variável \"Na_to_K\" (relação de sódio e potássio no sangue do paciente)\n",
    "mean = df['Na_to_K'].mean()     # média        \n",
    "median = df['Na_to_K'].median() # mediana\n",
    "mode = df['Na_to_K'].mode()[0]  # moda\n",
    "\n",
    "fig, (ax_box, ax_hist) = plt.subplots(2, sharex=True, \n",
    "                                      figsize=(14,7))\n",
    "\n",
    "sns.boxplot(data=df, x='Na_to_K', ax=ax_box, color='lightblue')\n",
    "ax_box.axvline(mean, color='red', linestyle='--', linewidth=4)\n",
    "ax_box.axvline(median, color='green', linestyle='-', linewidth=4)\n",
    "ax_box.axvline(mode, color='orange', linestyle='--', linewidth=4)\n",
    "ax_box.set(xlabel='')\n",
    "ax_box.set_title('\\nDistribuição dos dados da variável \"Na_to_K\" (relação de sódio e potássio no sangue do paciente)\\n',\n",
    "                 {'fontsize': 14,'fontweight': 'bold'})\n",
    "\n",
    "sns.histplot(data=df, x='Na_to_K', ax=ax_hist, kde=True, bins=50, color='blue')\n",
    "ax_hist.axvline(mean, color='red', linestyle='--', label='Média', linewidth=4)\n",
    "ax_hist.axvline(median, color='green', linestyle='-', label='Mediana', linewidth=4)\n",
    "ax_hist.axvline(mode, color='orange', linestyle='--', label='Moda', linewidth=4)\n",
    "\n",
    "ax_hist.legend()\n",
    "plt.tight_layout();"
   ]
  },
  {
   "cell_type": "code",
   "execution_count": 151,
   "metadata": {},
   "outputs": [
    {
     "data": {
      "image/png": "[encoded data removed]",
      "text/plain": [
       "<Figure size 360x360 with 2 Axes>"
      ]
     },
     "metadata": {},
     "output_type": "display_data"
    }
   ],
   "source": [
    "# visualizando a correlação de pearson entre as variáveis quantitativas\n",
    "plt.figure(figsize=(5,5))\n",
    "sns.heatmap(df.corr(), fmt='0.2%', annot=True, square=True)\n",
    "plt.tight_layout()"
   ]
  },
  {
   "cell_type": "markdown",
   "metadata": {},
   "source": [
    "**Preparação dos dados**"
   ]
  },
  {
   "cell_type": "code",
   "execution_count": 152,
   "metadata": {},
   "outputs": [
    {
     "name": "stdout",
     "output_type": "stream",
     "text": [
      "Dados para modelagem (180, 6)\n",
      "Dados para teste: (20, 6)\n"
     ]
    }
   ],
   "source": [
    "# dividindo o conjunto de dados em partes para a modelagem do modelo (treino e validação) e outra parte para teste final do modelo\n",
    "modeling_data = df.sample(frac=0.9, random_state=42)\n",
    "test_data = df.drop(modeling_data.index)\n",
    "\n",
    "# resetando os índices\n",
    "modeling_data.reset_index(drop=True, inplace=True)\n",
    "test_data.reset_index(drop=True, inplace=True)\n",
    "\n",
    "# visualizando a dimensão do particionamento dos dados\n",
    "print('Dados para modelagem ' + str(modeling_data.shape))\n",
    "print('Dados para teste: ' + str(test_data.shape))"
   ]
  },
  {
   "cell_type": "code",
   "execution_count": 153,
   "metadata": {},
   "outputs": [
    {
     "data": {
      "text/html": [
       "<div>\n",
       "<style scoped>\n",
       "    .dataframe tbody tr th:only-of-type {\n",
       "        vertical-align: middle;\n",
       "    }\n",
       "\n",
       "    .dataframe tbody tr th {\n",
       "        vertical-align: top;\n",
       "    }\n",
       "\n",
       "    .dataframe thead th {\n",
       "        text-align: right;\n",
       "    }\n",
       "</style>\n",
       "<table border=\"1\" class=\"dataframe\">\n",
       "  <thead>\n",
       "    <tr style=\"text-align: right;\">\n",
       "      <th></th>\n",
       "      <th>Age</th>\n",
       "      <th>Sex</th>\n",
       "      <th>BP</th>\n",
       "      <th>Cholesterol</th>\n",
       "      <th>Na_to_K</th>\n",
       "      <th>Drug</th>\n",
       "    </tr>\n",
       "  </thead>\n",
       "  <tbody>\n",
       "    <tr>\n",
       "      <th>0</th>\n",
       "      <td>36</td>\n",
       "      <td>M</td>\n",
       "      <td>LOW</td>\n",
       "      <td>NORMAL</td>\n",
       "      <td>11.424</td>\n",
       "      <td>drugX</td>\n",
       "    </tr>\n",
       "    <tr>\n",
       "      <th>1</th>\n",
       "      <td>16</td>\n",
       "      <td>F</td>\n",
       "      <td>HIGH</td>\n",
       "      <td>NORMAL</td>\n",
       "      <td>15.516</td>\n",
       "      <td>DrugY</td>\n",
       "    </tr>\n",
       "    <tr>\n",
       "      <th>2</th>\n",
       "      <td>18</td>\n",
       "      <td>F</td>\n",
       "      <td>NORMAL</td>\n",
       "      <td>NORMAL</td>\n",
       "      <td>8.750</td>\n",
       "      <td>drugX</td>\n",
       "    </tr>\n",
       "    <tr>\n",
       "      <th>3</th>\n",
       "      <td>59</td>\n",
       "      <td>F</td>\n",
       "      <td>LOW</td>\n",
       "      <td>HIGH</td>\n",
       "      <td>10.444</td>\n",
       "      <td>drugC</td>\n",
       "    </tr>\n",
       "    <tr>\n",
       "      <th>4</th>\n",
       "      <td>47</td>\n",
       "      <td>M</td>\n",
       "      <td>LOW</td>\n",
       "      <td>NORMAL</td>\n",
       "      <td>33.542</td>\n",
       "      <td>DrugY</td>\n",
       "    </tr>\n",
       "  </tbody>\n",
       "</table>\n",
       "</div>"
      ],
      "text/plain": [
       "   Age Sex      BP Cholesterol  Na_to_K   Drug\n",
       "0   36   M     LOW      NORMAL   11.424  drugX\n",
       "1   16   F    HIGH      NORMAL   15.516  DrugY\n",
       "2   18   F  NORMAL      NORMAL    8.750  drugX\n",
       "3   59   F     LOW        HIGH   10.444  drugC\n",
       "4   47   M     LOW      NORMAL   33.542  DrugY"
      ]
     },
     "execution_count": 153,
     "metadata": {},
     "output_type": "execute_result"
    }
   ],
   "source": [
    "# visualizando as 5 primeiras observações do conjunto de dados para modelagem do modelo\n",
    "modeling_data.head()"
   ]
  },
  {
   "cell_type": "code",
   "execution_count": 154,
   "metadata": {},
   "outputs": [
    {
     "data": {
      "text/html": [
       "<div>\n",
       "<style scoped>\n",
       "    .dataframe tbody tr th:only-of-type {\n",
       "        vertical-align: middle;\n",
       "    }\n",
       "\n",
       "    .dataframe tbody tr th {\n",
       "        vertical-align: top;\n",
       "    }\n",
       "\n",
       "    .dataframe thead th {\n",
       "        text-align: right;\n",
       "    }\n",
       "</style>\n",
       "<table border=\"1\" class=\"dataframe\">\n",
       "  <thead>\n",
       "    <tr style=\"text-align: right;\">\n",
       "      <th></th>\n",
       "      <th>Age</th>\n",
       "      <th>Sex</th>\n",
       "      <th>BP</th>\n",
       "      <th>Cholesterol</th>\n",
       "      <th>Na_to_K</th>\n",
       "      <th>Drug</th>\n",
       "    </tr>\n",
       "  </thead>\n",
       "  <tbody>\n",
       "    <tr>\n",
       "      <th>0</th>\n",
       "      <td>47</td>\n",
       "      <td>M</td>\n",
       "      <td>LOW</td>\n",
       "      <td>HIGH</td>\n",
       "      <td>13.093</td>\n",
       "      <td>drugC</td>\n",
       "    </tr>\n",
       "    <tr>\n",
       "      <th>1</th>\n",
       "      <td>50</td>\n",
       "      <td>F</td>\n",
       "      <td>NORMAL</td>\n",
       "      <td>HIGH</td>\n",
       "      <td>12.703</td>\n",
       "      <td>drugX</td>\n",
       "    </tr>\n",
       "    <tr>\n",
       "      <th>2</th>\n",
       "      <td>57</td>\n",
       "      <td>M</td>\n",
       "      <td>LOW</td>\n",
       "      <td>NORMAL</td>\n",
       "      <td>19.128</td>\n",
       "      <td>DrugY</td>\n",
       "    </tr>\n",
       "    <tr>\n",
       "      <th>3</th>\n",
       "      <td>62</td>\n",
       "      <td>M</td>\n",
       "      <td>LOW</td>\n",
       "      <td>NORMAL</td>\n",
       "      <td>27.183</td>\n",
       "      <td>DrugY</td>\n",
       "    </tr>\n",
       "    <tr>\n",
       "      <th>4</th>\n",
       "      <td>28</td>\n",
       "      <td>F</td>\n",
       "      <td>NORMAL</td>\n",
       "      <td>HIGH</td>\n",
       "      <td>19.675</td>\n",
       "      <td>DrugY</td>\n",
       "    </tr>\n",
       "  </tbody>\n",
       "</table>\n",
       "</div>"
      ],
      "text/plain": [
       "   Age Sex      BP Cholesterol  Na_to_K   Drug\n",
       "0   47   M     LOW        HIGH   13.093  drugC\n",
       "1   50   F  NORMAL        HIGH   12.703  drugX\n",
       "2   57   M     LOW      NORMAL   19.128  DrugY\n",
       "3   62   M     LOW      NORMAL   27.183  DrugY\n",
       "4   28   F  NORMAL        HIGH   19.675  DrugY"
      ]
     },
     "execution_count": 154,
     "metadata": {},
     "output_type": "execute_result"
    }
   ],
   "source": [
    "# visualizando as 5 primeiras observações do conjunto de dados de teste\n",
    "test_data.head()"
   ]
  },
  {
   "cell_type": "markdown",
   "metadata": {},
   "source": [
    "Se acaso, seja necessário a instalção da biblioteca do `sklearn`, descomente o código e execute-o."
   ]
  },
  {
   "cell_type": "code",
   "execution_count": 155,
   "metadata": {},
   "outputs": [],
   "source": [
    "#pip install sklearn"
   ]
  },
  {
   "cell_type": "code",
   "execution_count": 156,
   "metadata": {},
   "outputs": [],
   "source": [
    "# importando a função para realizar o particionamento dos dados\n",
    "from sklearn.model_selection import train_test_split"
   ]
  },
  {
   "cell_type": "code",
   "execution_count": 158,
   "metadata": {},
   "outputs": [],
   "source": [
    "# particionando os dados do objeto \"data_modeling\" em dados de treino (train_set) e validação (val_set)\n",
    "train_set, val_set = train_test_split(modeling_data, test_size=0.3, random_state=42)"
   ]
  },
  {
   "cell_type": "code",
   "execution_count": 159,
   "metadata": {},
   "outputs": [
    {
     "name": "stdout",
     "output_type": "stream",
     "text": [
      "Qtde de observações no conjunto de treino: 126\n",
      "Qtde de observações no conjunto de validação: 54\n"
     ]
    }
   ],
   "source": [
    "# visualizando a quantidade de observações nas partições\n",
    "print(\n",
    "    f'Qtde de observações no conjunto de treino: {len(train_set)}',\n",
    "    f'Qtde de observações no conjunto de validação: {len(val_set)}',\n",
    "    sep='\\n'\n",
    ")\n"
   ]
  },
  {
   "cell_type": "markdown",
   "metadata": {},
   "source": [
    "\n",
    "Para aplicação de algoritmos de _machine learning_ é de extrema importância que as observações sejam numéricas, portanto dados qualitativos devem ser realizado algum tipo de transformação.\n",
    "\n",
    "Existe inúmeras técnicas para essa tarefa de transformação e, para esse nosso problema utilizaremos a função `OrdinalEncncoder`.\n"
   ]
  },
  {
   "cell_type": "code",
   "execution_count": 160,
   "metadata": {},
   "outputs": [],
   "source": [
    "# realizando uma cópia do conjunto de dados de treino\n",
    "df_copy = train_set.copy()"
   ]
  },
  {
   "cell_type": "markdown",
   "metadata": {},
   "source": [
    "Se acaso, seja necessário a instalção da biblioteca do `category_encoders`, descomente o código e execute-o."
   ]
  },
  {
   "cell_type": "code",
   "execution_count": 161,
   "metadata": {},
   "outputs": [],
   "source": [
    "#pip install category_encoders"
   ]
  },
  {
   "cell_type": "code",
   "execution_count": 162,
   "metadata": {},
   "outputs": [],
   "source": [
    "# importando a biblioteca \"category_encoders\" e a função \"OrdinalEncoder\" do sklearn\n",
    "import category_encoders as ce\n",
    "from sklearn.preprocessing import OrdinalEncoder"
   ]
  },
  {
   "cell_type": "code",
   "execution_count": 163,
   "metadata": {},
   "outputs": [
    {
     "data": {
      "text/plain": [
       "OrdinalEncoder(cols=[['Sex', 'BP', 'Cholesterol']],\n",
       "               mapping=[{'col': 'Sex', 'mapping': {'F': 0, 'M': 1}},\n",
       "                        {'col': 'BP',\n",
       "                         'mapping': {'HIGH': 2, 'LOW': 0, 'NORMAL': 1}},\n",
       "                        {'col': 'Cholesterol',\n",
       "                         'mapping': {'HIGH': 1, 'NORMAL': 0}}])"
      ]
     },
     "execution_count": 163,
     "metadata": {},
     "output_type": "execute_result"
    }
   ],
   "source": [
    "# instanciando o objeto \"encoder_att\" com os atributos qualitatvos (categóricos) dos dados de treinamento\n",
    "encoder_att = ce.OrdinalEncoder(\n",
    "    cols=[['Sex', 'BP', 'Cholesterol']], return_df=True,\n",
    "    mapping=[\n",
    "        {'col': 'Sex', 'mapping': {'F': 0, 'M': 1}}, \n",
    "        {'col': 'BP', 'mapping': {'LOW': 0, 'NORMAL': 1, 'HIGH': 2}}, \n",
    "        {'col': 'Cholesterol', 'mapping': {'NORMAL': 0, 'HIGH': 1}}]\n",
    "\n",
    ")\n",
    "\n",
    "# visualizando o resultado do objeto\n",
    "encoder_att"
   ]
  },
  {
   "cell_type": "code",
   "execution_count": 164,
   "metadata": {},
   "outputs": [
    {
     "data": {
      "text/plain": [
       "OrdinalEncoder(cols=[['Drug']],\n",
       "               mapping=[{'col': 'Drug',\n",
       "                         'mapping': {'DrugY': 1, 'drugB': 3, 'drugC': 2,\n",
       "                                     'drugX': 0}}])"
      ]
     },
     "execution_count": 164,
     "metadata": {},
     "output_type": "execute_result"
    }
   ],
   "source": [
    "# instanciando o objeto \"encoder_label\" com os atributos qualitatvos (categóricos) dos dados da váriavel alvo\n",
    "encoder_label = ce.OrdinalEncoder(\n",
    "    cols=[['Drug']], return_df=True,\n",
    "    mapping=[\n",
    "        {'col': 'Drug', 'mapping': {'drugX': 0, 'DrugY': 1, 'drugC': 2, 'drugB': 3}}]\n",
    ")\n",
    "\n",
    "encoder_label"
   ]
  },
  {
   "cell_type": "markdown",
   "metadata": {},
   "source": [
    "Agora a próxima etapa é realizar a _padrponização dos dados_, também conhecido com `escalonamento` dos dados, isto é, deixar as variáveis numéricas em escalas próximas.\n",
    "\n",
    "\"... mantendo a informação estatística dos dados, é realizar uma transformação sobre o conjunto original dos dados de modo que cada variável apresente média zero e variância igual a um (autoescalonamento).\"\n",
    "\n",
    "**Saiba mais em:**\n",
    "- https://www.scielo.br/j/qn/a/b64d96fbT5jMHmnc48SdXnr/?lang=pt"
   ]
  },
  {
   "cell_type": "markdown",
   "metadata": {},
   "source": [
    "Os algoritmos `SVM's` são muito sensíveis a alta variabilidade dos dados. Para obtermos melhores resultados é importante à realização dessa estapa de _escalonamento_, pois as fronteiras de decisão se ajustam melhor com os dados em escala.\n",
    "\n",
    "Utlizaremos o algortimo `StandardScaler` para essa necessidade."
   ]
  },
  {
   "cell_type": "markdown",
   "metadata": {},
   "source": [
    "Como forma de otimização das etapas da transformação dos dados, farei uso da classe `Pipeline` do _sklearn_."
   ]
  },
  {
   "cell_type": "code",
   "execution_count": 165,
   "metadata": {},
   "outputs": [],
   "source": [
    "# importando a classe \"Pipeline\" do sklearn\n",
    "from sklearn.pipeline import Pipeline\n",
    "\n",
    "# importando a funçõa para realizar o escalonamento dos dados\n",
    "from sklearn.preprocessing import StandardScaler\n",
    "\n",
    "# importando as funções para auxiliar na aplicação da transfromação dos dados\n",
    "from sklearn.compose import ColumnTransformer,\\\n",
    "                            make_column_selector as selector"
   ]
  },
  {
   "cell_type": "code",
   "execution_count": 166,
   "metadata": {},
   "outputs": [],
   "source": [
    "# instanciando as variáveis explicativas (X) e a resposta (y) da cópia do conjunto de dados (df_copy) para aplicação das transformações\n",
    "X, y = df_copy.drop('Drug', axis=1), df_copy[['Drug']]"
   ]
  },
  {
   "cell_type": "code",
   "execution_count": 167,
   "metadata": {},
   "outputs": [
    {
     "name": "stdout",
     "output_type": "stream",
     "text": [
      "<class 'pandas.core.frame.DataFrame'>\n"
     ]
    },
    {
     "data": {
      "text/html": [
       "<div>\n",
       "<style scoped>\n",
       "    .dataframe tbody tr th:only-of-type {\n",
       "        vertical-align: middle;\n",
       "    }\n",
       "\n",
       "    .dataframe tbody tr th {\n",
       "        vertical-align: top;\n",
       "    }\n",
       "\n",
       "    .dataframe thead th {\n",
       "        text-align: right;\n",
       "    }\n",
       "</style>\n",
       "<table border=\"1\" class=\"dataframe\">\n",
       "  <thead>\n",
       "    <tr style=\"text-align: right;\">\n",
       "      <th></th>\n",
       "      <th>Age</th>\n",
       "      <th>Sex</th>\n",
       "      <th>BP</th>\n",
       "      <th>Cholesterol</th>\n",
       "      <th>Na_to_K</th>\n",
       "    </tr>\n",
       "  </thead>\n",
       "  <tbody>\n",
       "    <tr>\n",
       "      <th>46</th>\n",
       "      <td>45</td>\n",
       "      <td>M</td>\n",
       "      <td>LOW</td>\n",
       "      <td>HIGH</td>\n",
       "      <td>17.951</td>\n",
       "    </tr>\n",
       "    <tr>\n",
       "      <th>85</th>\n",
       "      <td>59</td>\n",
       "      <td>M</td>\n",
       "      <td>HIGH</td>\n",
       "      <td>HIGH</td>\n",
       "      <td>13.935</td>\n",
       "    </tr>\n",
       "    <tr>\n",
       "      <th>152</th>\n",
       "      <td>50</td>\n",
       "      <td>F</td>\n",
       "      <td>NORMAL</td>\n",
       "      <td>NORMAL</td>\n",
       "      <td>17.211</td>\n",
       "    </tr>\n",
       "    <tr>\n",
       "      <th>82</th>\n",
       "      <td>37</td>\n",
       "      <td>F</td>\n",
       "      <td>HIGH</td>\n",
       "      <td>HIGH</td>\n",
       "      <td>13.091</td>\n",
       "    </tr>\n",
       "    <tr>\n",
       "      <th>147</th>\n",
       "      <td>50</td>\n",
       "      <td>M</td>\n",
       "      <td>HIGH</td>\n",
       "      <td>HIGH</td>\n",
       "      <td>7.490</td>\n",
       "    </tr>\n",
       "  </tbody>\n",
       "</table>\n",
       "</div>"
      ],
      "text/plain": [
       "     Age Sex      BP Cholesterol  Na_to_K\n",
       "46    45   M     LOW        HIGH   17.951\n",
       "85    59   M    HIGH        HIGH   13.935\n",
       "152   50   F  NORMAL      NORMAL   17.211\n",
       "82    37   F    HIGH        HIGH   13.091\n",
       "147   50   M    HIGH        HIGH    7.490"
      ]
     },
     "execution_count": 167,
     "metadata": {},
     "output_type": "execute_result"
    }
   ],
   "source": [
    "# visualizando as 5 primeiras observações da variável X\n",
    "print(type(X))\n",
    "X[:5]"
   ]
  },
  {
   "cell_type": "code",
   "execution_count": 168,
   "metadata": {},
   "outputs": [
    {
     "name": "stdout",
     "output_type": "stream",
     "text": [
      "<class 'pandas.core.frame.DataFrame'>\n"
     ]
    },
    {
     "data": {
      "text/html": [
       "<div>\n",
       "<style scoped>\n",
       "    .dataframe tbody tr th:only-of-type {\n",
       "        vertical-align: middle;\n",
       "    }\n",
       "\n",
       "    .dataframe tbody tr th {\n",
       "        vertical-align: top;\n",
       "    }\n",
       "\n",
       "    .dataframe thead th {\n",
       "        text-align: right;\n",
       "    }\n",
       "</style>\n",
       "<table border=\"1\" class=\"dataframe\">\n",
       "  <thead>\n",
       "    <tr style=\"text-align: right;\">\n",
       "      <th></th>\n",
       "      <th>Drug</th>\n",
       "    </tr>\n",
       "  </thead>\n",
       "  <tbody>\n",
       "    <tr>\n",
       "      <th>46</th>\n",
       "      <td>DrugY</td>\n",
       "    </tr>\n",
       "    <tr>\n",
       "      <th>85</th>\n",
       "      <td>drugB</td>\n",
       "    </tr>\n",
       "    <tr>\n",
       "      <th>152</th>\n",
       "      <td>DrugY</td>\n",
       "    </tr>\n",
       "    <tr>\n",
       "      <th>82</th>\n",
       "      <td>drugA</td>\n",
       "    </tr>\n",
       "    <tr>\n",
       "      <th>147</th>\n",
       "      <td>drugA</td>\n",
       "    </tr>\n",
       "  </tbody>\n",
       "</table>\n",
       "</div>"
      ],
      "text/plain": [
       "      Drug\n",
       "46   DrugY\n",
       "85   drugB\n",
       "152  DrugY\n",
       "82   drugA\n",
       "147  drugA"
      ]
     },
     "execution_count": 168,
     "metadata": {},
     "output_type": "execute_result"
    }
   ],
   "source": [
    "# visualizando as 5 primeiras observações da variável y\n",
    "print(type(y))\n",
    "y[:5]"
   ]
  },
  {
   "cell_type": "code",
   "execution_count": 169,
   "metadata": {},
   "outputs": [],
   "source": [
    "# instanciando os objetos para realizar a separação dos atributos numéricos e categóricos\n",
    "numerical_columns_selector = selector(dtype_exclude=object)\n",
    "categorical_columns_selector = selector(dtype_include=object)\n",
    "\n",
    "# aplicando os objetos acima e realizando a separação dos atributos conforme sua distinção\n",
    "numerical_att_columns = numerical_columns_selector(X)\n",
    "categorical_att_columns = categorical_columns_selector(X)\n",
    "categorical_label = categorical_columns_selector(y)"
   ]
  },
  {
   "cell_type": "code",
   "execution_count": 170,
   "metadata": {},
   "outputs": [
    {
     "data": {
      "text/plain": [
       "(['Age', 'Na_to_K'], ['Sex', 'BP', 'Cholesterol'], ['Drug'])"
      ]
     },
     "execution_count": 170,
     "metadata": {},
     "output_type": "execute_result"
    }
   ],
   "source": [
    "# visualizando os atributos selecionados por cada objeto\n",
    "numerical_att_columns, categorical_att_columns, categorical_label"
   ]
  },
  {
   "cell_type": "code",
   "execution_count": 171,
   "metadata": {},
   "outputs": [
    {
     "data": {
      "text/plain": [
       "Pipeline(steps=[('std_scaler', StandardScaler())])"
      ]
     },
     "execution_count": 171,
     "metadata": {},
     "output_type": "execute_result"
    }
   ],
   "source": [
    "# instanciando o objeto \"Pipeline\" na variável \"num_pipeline\" dos atributos numéricos\n",
    "num_pipeline = Pipeline([\n",
    "    ('std_scaler', StandardScaler())\n",
    "])\n",
    "\n",
    "# visualizando o resultado\n",
    "num_pipeline"
   ]
  },
  {
   "cell_type": "code",
   "execution_count": 172,
   "metadata": {},
   "outputs": [
    {
     "data": {
      "text/plain": [
       "ColumnTransformer(transformers=[('num',\n",
       "                                 Pipeline(steps=[('std_scaler',\n",
       "                                                  StandardScaler())]),\n",
       "                                 ['Age', 'Na_to_K']),\n",
       "                                ('cat',\n",
       "                                 OrdinalEncoder(cols=[['Sex', 'BP',\n",
       "                                                       'Cholesterol']],\n",
       "                                                mapping=[{'col': 'Sex',\n",
       "                                                          'mapping': {'F': 0,\n",
       "                                                                      'M': 1}},\n",
       "                                                         {'col': 'BP',\n",
       "                                                          'mapping': {'HIGH': 2,\n",
       "                                                                      'LOW': 0,\n",
       "                                                                      'NORMAL': 1}},\n",
       "                                                         {'col': 'Cholesterol',\n",
       "                                                          'mapping': {'HIGH': 1,\n",
       "                                                                      'NORMAL': 0}}]),\n",
       "                                 ['Sex', 'BP', 'Cholesterol'])])"
      ]
     },
     "execution_count": 172,
     "metadata": {},
     "output_type": "execute_result"
    }
   ],
   "source": [
    "# aplicando os objetos \"num_pipeline\" (atributos numéricos) e \"encoder_att\" (atributos categóricos) das variáveis explicativas\n",
    "full_pipeline_att = ColumnTransformer([\n",
    "    ('num', num_pipeline, numerical_att_columns),\n",
    "    ('cat', encoder_att, categorical_att_columns)\n",
    "])\n",
    "\n",
    "# visualizando o resultado\n",
    "full_pipeline_att"
   ]
  },
  {
   "cell_type": "markdown",
   "metadata": {},
   "source": [
    "**Treinando e avaliando o modelo `SVM`**"
   ]
  },
  {
   "cell_type": "code",
   "execution_count": 173,
   "metadata": {},
   "outputs": [
    {
     "data": {
      "text/plain": [
       "ColumnTransformer(transformers=[('cat',\n",
       "                                 OrdinalEncoder(cols=[['Drug']],\n",
       "                                                mapping=[{'col': 'Drug',\n",
       "                                                          'mapping': {'DrugY': 1,\n",
       "                                                                      'drugB': 3,\n",
       "                                                                      'drugC': 2,\n",
       "                                                                      'drugX': 0}}]),\n",
       "                                 ['Drug'])])"
      ]
     },
     "execution_count": 173,
     "metadata": {},
     "output_type": "execute_result"
    }
   ],
   "source": [
    "# instanciando o objeto \"full_pipeline\" e utilizando a função \"ColumnTransformer\" para aplicar as transformações nas variáveis categóricas\n",
    "full_pipeline_label = ColumnTransformer([\n",
    "    ('cat', encoder_label, categorical_label)\n",
    "])\n",
    "\n",
    "full_pipeline_label"
   ]
  },
  {
   "cell_type": "code",
   "execution_count": 174,
   "metadata": {},
   "outputs": [],
   "source": [
    "# aplicando o objeto \"full_pipeline_att\" e o \"full_pipeline_label\" nas respectivas variávies X e y e realizando o treinamento e a transformação dos dados\n",
    "X_final = full_pipeline_att.fit_transform(X)\n",
    "y_final = full_pipeline_label.fit_transform(y)"
   ]
  },
  {
   "cell_type": "code",
   "execution_count": 175,
   "metadata": {},
   "outputs": [
    {
     "data": {
      "text/plain": [
       "array([[ 0.06391245,  0.3315393 ,  1.        ,  0.        ,  1.        ],\n",
       "       [ 0.91801526, -0.21928018,  1.        ,  2.        ,  1.        ],\n",
       "       [ 0.36894917,  0.23004368,  0.        ,  1.        ,  0.        ],\n",
       "       [-0.42414629, -0.33504005,  0.        ,  2.        ,  1.        ],\n",
       "       [ 0.36894917, -1.10325217,  1.        ,  2.        ,  1.        ]])"
      ]
     },
     "execution_count": 175,
     "metadata": {},
     "output_type": "execute_result"
    }
   ],
   "source": [
    "# visualizando as 5 primeiras observações e suas transformações realizadas da variável \"X_final\"\n",
    "X_final[:5]"
   ]
  },
  {
   "cell_type": "code",
   "execution_count": 177,
   "metadata": {},
   "outputs": [
    {
     "data": {
      "text/plain": [
       "array([[ 1.],\n",
       "       [ 3.],\n",
       "       [ 1.],\n",
       "       [-1.],\n",
       "       [-1.]])"
      ]
     },
     "execution_count": 177,
     "metadata": {},
     "output_type": "execute_result"
    }
   ],
   "source": [
    "# visualizando as 5 primeiras observações e suas transformações realizadas da variável \"y_final\"\n",
    "y_final[:5]"
   ]
  },
  {
   "cell_type": "markdown",
   "metadata": {},
   "source": [
    "**Treinando e avaliandio o modelo `SVM`**"
   ]
  },
  {
   "cell_type": "markdown",
   "metadata": {},
   "source": [
    "Finalmente chegamos na etapa de aplicação do _SVM_, porém há algumas particularidades referente ao algoritmo em questão que devemos se atentar.\n",
    "\n",
    "Como o objetivo principal do _SVM_ é encontrar um `bom equilibrio entre manter a margem maior possível e limitar as violações de margem`, ou seja, observações que terminam no meio da margem ou na margem errada e, isso é conhecido como `classificação de margem suave`, podemos especificar alguns hiperparâmetros, como a regularização `\"C\"`.\n",
    "- se especificar muito baixo, teremos grandes quantidades de violação de margem.\n",
    "- e ao contrário, especificando muito alto, teremos bem menos violação de margem.\n",
    "\n",
    "Então o nosso desafio é encontrar esse equilíbrio, entretanto, é melhor ter algumas _violações de margem_, pois assim a capacidade de generalização do modelo é melhor."
   ]
  },
  {
   "cell_type": "markdown",
   "metadata": {},
   "source": [
    "Para esse primeiro treinamento do modelo, utilizaremos a classe `LinearSVC` e, também poderíamos utilizar a classe `SVC` especificando o _hiperparâmetro_, \"`kernel='linear'\"`. Nesse caso específico, iríamos considerar que os dados tivessem uma separação linear.\n",
    "\n",
    "Vamos para aplicação do modelo!"
   ]
  },
  {
   "cell_type": "code",
   "execution_count": 178,
   "metadata": {},
   "outputs": [],
   "source": [
    "# criando uma cópia dos dados\n",
    "X_cv = X_final.copy()\n",
    "y_cv = y_final.copy()"
   ]
  },
  {
   "cell_type": "code",
   "execution_count": 179,
   "metadata": {},
   "outputs": [],
   "source": [
    "# importando a função \"LinearSVC\"\n",
    "from sklearn.svm import LinearSVC"
   ]
  },
  {
   "cell_type": "code",
   "execution_count": 180,
   "metadata": {},
   "outputs": [],
   "source": [
    "# importando a função de métrica da validação cruzada\n",
    "from sklearn.model_selection import cross_val_score"
   ]
  },
  {
   "cell_type": "code",
   "execution_count": 181,
   "metadata": {},
   "outputs": [
    {
     "data": {
      "text/plain": [
       "LinearSVC(random_state=42)"
      ]
     },
     "execution_count": 181,
     "metadata": {},
     "output_type": "execute_result"
    }
   ],
   "source": [
    "# instanciando o modelo\n",
    "linearSVC_model = LinearSVC(random_state=42)\n",
    "linearSVC_model"
   ]
  },
  {
   "cell_type": "code",
   "execution_count": 182,
   "metadata": {},
   "outputs": [
    {
     "data": {
      "text/plain": [
       "array([0.69285714, 0.95353535, 0.81850226])"
      ]
     },
     "execution_count": 182,
     "metadata": {},
     "output_type": "execute_result"
    }
   ],
   "source": [
    "# aplicando o modelo\n",
    "linearSVC_scores = cross_val_score(\n",
    "    linearSVC_model, X_cv, y_cv,\n",
    "    scoring='f1_macro', cv=3\n",
    ")\n",
    "\n",
    "# visualizando o resultado\n",
    "linearSVC_scores"
   ]
  },
  {
   "cell_type": "code",
   "execution_count": 183,
   "metadata": {},
   "outputs": [],
   "source": [
    "# instanciando o resultado na variável \"linearSVC_f1score\"\n",
    "linearSVC_f1score = linearSVC_scores\n",
    "\n",
    "def display_scores(scores):\n",
    "    print(f'Scores: {scores}')\n",
    "    print(f'Média: {scores.mean()}')\n",
    "    print(f'Desvio-padrão: {scores.std()}')"
   ]
  },
  {
   "cell_type": "code",
   "execution_count": 184,
   "metadata": {},
   "outputs": [
    {
     "name": "stdout",
     "output_type": "stream",
     "text": [
      "Scores: [0.69285714 0.95353535 0.81850226]\n",
      "Média: 0.8216315868040006\n",
      "Desvio-padrão: 0.10644443582268823\n"
     ]
    }
   ],
   "source": [
    "# avaliando o modelo\n",
    "display_scores(linearSVC_f1score)"
   ]
  },
  {
   "cell_type": "markdown",
   "metadata": {},
   "source": [
    "> O `F1 score` foi de aproximadamente de _0,82_.\n",
    "\n",
    "Será que podemos melhorar esse resultado?\n",
    "\n",
    "Para isso, utilizaremos uma abordagem _não linear_, utilizando a especificação do **kernel** e, por fim avaliar o modelo novamente."
   ]
  },
  {
   "cell_type": "markdown",
   "metadata": {},
   "source": [
    "**Tipos de Kernel**\n",
    "\n",
    "- `Kernel polinomial`\n",
    "\n",
    "Uma forma de lidar com conjuntos de dados que não são separáveis linearmente, é utilizar a adição de características polinomiais (PolynomialFeatures). Essa classe é simples de se implementar e pode funcionar muito bem com todos os tipos de algoritmos de machine learning. Dessa forma, quando se trata de um baixo grau polinomial, esse método não pode lidar com conjunto de dados muito complexos e, se tratando de um alto grau polinomial, ele cria um grande número de características, fazendo com que o modelo fique bem lento. É aqui\n",
    "que entra o kernel. Essa técnica é uma alternativa a `\"polynomial features\"`.\n",
    "\n",
    "Conforme introduzimos acima, com as SVMs, podemos empregar uma técnica matemática poderosa (não iremos entrar em detalhes aqui), que se chama **truque do kernel**. Esse método possibilita obter o mesmo resultado, como se você tivesse adicionado muitas _características polinomiais_, mesmo com polinômios de alto grau, sem adicioná-las na prática. Assim, não ocorre uma explosão combinatória do número de características, porque você não adiciona\n",
    "nenhuma. Esse truque é implementado pela classe SVC.\n"
   ]
  },
  {
   "cell_type": "markdown",
   "metadata": {},
   "source": [
    "![](https://encrypted-tbn0.gstatic.com/images?q=tbn:ANd9GcTGmurrTLcHoWQZRQlAZqGWkcoOAADQaDX0ag&usqp=CAU)"
   ]
  },
  {
   "cell_type": "markdown",
   "metadata": {},
   "source": [
    "> Em essência, o que o truque do kernel faz por nós é oferecer uma maneira mais eficiente e menos dispendiosa (em comparação com a polynomial features, por exemplo) de transformar dados em dimensões mais altas."
   ]
  },
  {
   "cell_type": "markdown",
   "metadata": {},
   "source": [
    "- `Kernel gaussiano RBF`\n",
    "\n",
    "Outra técnica para lidar com problemas não lineares é adicionar características calculadas usando uma função de similaridade, que computa o quanto cada instância se assemelha a um ponto de referência específico. Sem entrar em muitos detalhes aqui, a idéia é basicamente a mesma do kernel polinomial, porém ao invés de utilizar características polinomiais, utilizaremos características de similaridade.\n",
    "\n",
    "Esse kernel vem como default da classe SVC na scikit-learn e é ele que iremos utilizar no código abaixo. Pórem devemos tomar o cuidado com o _overfitting_."
   ]
  },
  {
   "cell_type": "code",
   "execution_count": 185,
   "metadata": {},
   "outputs": [],
   "source": [
    "# importando a função \"SVC\"\n",
    "from sklearn.svm import SVC"
   ]
  },
  {
   "cell_type": "code",
   "execution_count": 186,
   "metadata": {},
   "outputs": [
    {
     "data": {
      "text/plain": [
       "SVC(random_state=42)"
      ]
     },
     "execution_count": 186,
     "metadata": {},
     "output_type": "execute_result"
    }
   ],
   "source": [
    "# instanciando o modelo e especificando o \"kernel='rbf'\"\n",
    "rbfSVC_model = SVC(kernel='rbf', random_state=42)\n",
    "rbfSVC_model"
   ]
  },
  {
   "cell_type": "code",
   "execution_count": 187,
   "metadata": {},
   "outputs": [
    {
     "data": {
      "text/plain": [
       "array([0.91666667, 0.89016377, 0.83128205])"
      ]
     },
     "execution_count": 187,
     "metadata": {},
     "output_type": "execute_result"
    }
   ],
   "source": [
    "# aplicando o modelo\n",
    "rbfSVC_scores = cross_val_score(\n",
    "    rbfSVC_model, X_cv, y_cv,\n",
    "    scoring='f1_macro', cv=3\n",
    ")\n",
    "\n",
    "# visualizando o resultado\n",
    "rbfSVC_scores"
   ]
  },
  {
   "cell_type": "code",
   "execution_count": 188,
   "metadata": {},
   "outputs": [
    {
     "name": "stdout",
     "output_type": "stream",
     "text": [
      "Scores: [0.91666667 0.89016377 0.83128205]\n",
      "Média: 0.8793708298869589\n",
      "Desvio-padrão: 0.03568378558978193\n"
     ]
    }
   ],
   "source": [
    "# avaliando o modelo\n",
    "display_scores(rbfSVC_scores)"
   ]
  },
  {
   "cell_type": "markdown",
   "metadata": {},
   "source": [
    "> Conseguimos melhorar um pouco os resultados!"
   ]
  },
  {
   "cell_type": "markdown",
   "metadata": {},
   "source": [
    "**Testando o mdoelo `SVM`**"
   ]
  },
  {
   "cell_type": "code",
   "execution_count": 189,
   "metadata": {},
   "outputs": [],
   "source": [
    "# criando uma cópia do conjunto de dados de validação\n",
    "df_val = val_set.copy()"
   ]
  },
  {
   "cell_type": "code",
   "execution_count": 190,
   "metadata": {},
   "outputs": [],
   "source": [
    "# separando as variáveis explicativas (dependentes) e a variável resposta (independente)\n",
    "X_val = df_val.drop('Drug', axis=1)\n",
    "y_val = df_val[['Drug']]"
   ]
  },
  {
   "cell_type": "code",
   "execution_count": 191,
   "metadata": {},
   "outputs": [],
   "source": [
    "# aplicando o pipeline de preparação dos dados do conjunto de validação\n",
    "X_val_final = full_pipeline_att.fit_transform(X_val)\n",
    "y_val_final = full_pipeline_label.fit_transform(y_val)"
   ]
  },
  {
   "cell_type": "code",
   "execution_count": 192,
   "metadata": {},
   "outputs": [
    {
     "data": {
      "text/plain": [
       "LinearSVC(random_state=42)"
      ]
     },
     "execution_count": 192,
     "metadata": {},
     "output_type": "execute_result"
    }
   ],
   "source": [
    "# aplicando o modelo \n",
    "val_model = LinearSVC(random_state=42)\n",
    "val_model.fit(X_cv, y_cv)"
   ]
  },
  {
   "cell_type": "code",
   "execution_count": 193,
   "metadata": {},
   "outputs": [
    {
     "data": {
      "text/plain": [
       "array([ 1.,  0.,  1., -1.,  0.,  1.,  1.,  1.,  0.,  1.,  1.,  0., -1.,\n",
       "        1.,  2.,  3.,  1.,  2.,  0., -1.,  1.,  1.,  1.,  1.,  0.,  1.,\n",
       "       -1.,  2., -1.,  1.,  0.,  1.,  1.,  1.,  1.,  0.,  0.,  1.,  1.,\n",
       "        2.,  1.,  0.,  1.,  1.,  1.,  2.,  1.,  1.,  0.,  1.,  1.,  0.,\n",
       "        0.,  0.])"
      ]
     },
     "execution_count": 193,
     "metadata": {},
     "output_type": "execute_result"
    }
   ],
   "source": [
    "# realizando as predições com os dados de validação\n",
    "y_pred = val_model.predict(X_val_final)\n",
    "y_pred"
   ]
  },
  {
   "cell_type": "code",
   "execution_count": 194,
   "metadata": {},
   "outputs": [],
   "source": [
    "# importando as funções para relatório do modelo\n",
    "from sklearn.metrics import (accuracy_score,\n",
    "                             precision_score,\n",
    "                             recall_score,\n",
    "                             confusion_matrix, \n",
    "                             classification_report)"
   ]
  },
  {
   "cell_type": "code",
   "execution_count": 195,
   "metadata": {},
   "outputs": [
    {
     "name": "stdout",
     "output_type": "stream",
     "text": [
      "              precision    recall  f1-score   support\n",
      "\n",
      "        -1.0       0.60      1.00      0.75         3\n",
      "         0.0       1.00      1.00      1.00        14\n",
      "         1.0       1.00      0.91      0.95        32\n",
      "         2.0       0.60      1.00      0.75         3\n",
      "         3.0       1.00      0.50      0.67         2\n",
      "\n",
      "    accuracy                           0.93        54\n",
      "   macro avg       0.84      0.88      0.82        54\n",
      "weighted avg       0.96      0.93      0.93        54\n",
      "\n"
     ]
    }
   ],
   "source": [
    "print(classification_report(y_val_final, y_pred))"
   ]
  },
  {
   "cell_type": "code",
   "execution_count": 196,
   "metadata": {},
   "outputs": [
    {
     "name": "stdout",
     "output_type": "stream",
     "text": [
      "Acurácia geral: 0.9259259259259259\n",
      "Precisão geral: 0.8400000000000001\n",
      "Recall geral: 0.88125\n"
     ]
    }
   ],
   "source": [
    "print(f'Acurácia geral: {accuracy_score(y_val_final, y_pred)}')\n",
    "print(f'Precisão geral: {precision_score(y_val_final, y_pred, average=\"macro\")}')\n",
    "print(f'Recall geral: {recall_score(y_val_final, y_pred, average=\"macro\")}')"
   ]
  },
  {
   "cell_type": "code",
   "execution_count": 197,
   "metadata": {},
   "outputs": [
    {
     "name": "stdout",
     "output_type": "stream",
     "text": [
      "              precision    recall  f1-score   support\n",
      "\n",
      "        -1.0       0.60      1.00      0.75         3\n",
      "         0.0       1.00      1.00      1.00        14\n",
      "         1.0       1.00      0.91      0.95        32\n",
      "         2.0       0.60      1.00      0.75         3\n",
      "         3.0       1.00      0.50      0.67         2\n",
      "\n",
      "    accuracy                           0.93        54\n",
      "   macro avg       0.84      0.88      0.82        54\n",
      "weighted avg       0.96      0.93      0.93        54\n",
      "\n",
      "Acurácia geral: 0.9259259259259259\n",
      "Precisão geral: 0.8400000000000001\n",
      "Recall geral: 0.88125\n"
     ]
    },
    {
     "data": {
      "image/png": "[encoded data removed]",
      "text/plain": [
       "<Figure size 648x360 with 2 Axes>"
      ]
     },
     "metadata": {},
     "output_type": "display_data"
    }
   ],
   "source": [
    "# imprimindo o relatório de classificação dos dados de validação do modelo\n",
    "print(classification_report(y_val_final, y_pred))\n",
    "\n",
    "print(f'Acurácia geral: {accuracy_score(y_val_final, y_pred)}')\n",
    "print(f'Precisão geral: {precision_score(y_val_final, y_pred, average=\"macro\")}')\n",
    "print(f'Recall geral: {recall_score(y_val_final, y_pred, average=\"macro\")}')\n",
    "\n",
    "# visualizando graficamente a matriz de confusão dos dados de validação do modelo\n",
    "fig = plt.figure(figsize=[9, 5])\n",
    "fig.suptitle('Matriz de Confusão\\n', fontsize=16, fontweight='bold')\n",
    "\n",
    "sns.heatmap(confusion_matrix(y_val_final, y_pred),\n",
    "            cmap='Blues', annot=True, fmt='.0f')\n",
    "plt.title('SVM - validação', fontsize=14)\n",
    "plt.xticks()\n",
    "plt.yticks()\n",
    "\n",
    "plt.show()\n"
   ]
  },
  {
   "cell_type": "markdown",
   "metadata": {},
   "source": [
    "> Com o _plot_ da `Matriz de Confusão` podemos melhor visualizar os resultados de acertos e erros do modelo.<br><br> Para a **classe 2**, de 32 observações no total, 3 foram classificadas erradas, ou seja, aproximadamente 9% de erro. <br>E para a **classe 4** que possui somente duas observações, uma classificada erroneamente, 50% de erro. <br>Já para as demais classes, 100% de acertos!"
   ]
  },
  {
   "cell_type": "markdown",
   "metadata": {},
   "source": [
    "#### **Conclusão final**"
   ]
  },
  {
   "cell_type": "markdown",
   "metadata": {},
   "source": [
    "Passamos brevemente por algumas etapas de um projeto de `Ciência de Dados` com foco em entender melhor como funciona o algoritmo SVM. Neste projeto passamos por:\n",
    "- Introdução;\n",
    "- Coleta dos dados;\n",
    "- Análise exploratória dos dados;\n",
    "- Preparação dos dados;\n",
    "- Treinar e avaliar alguns modelos SVM;\n",
    "- Teste do modelo final.\n"
   ]
  },
  {
   "cell_type": "code",
   "execution_count": null,
   "metadata": {},
   "outputs": [],
   "source": []
  },
  {
   "cell_type": "code",
   "execution_count": null,
   "metadata": {},
   "outputs": [],
   "source": []
  },
  {
   "cell_type": "code",
   "execution_count": null,
   "metadata": {},
   "outputs": [],
   "source": []
  },
  {
   "cell_type": "code",
   "execution_count": null,
   "metadata": {},
   "outputs": [],
   "source": []
  }
 ],
 "metadata": {
  "interpreter": {
   "hash": "6bafd6474ce4b62c03605d0b33fc5128bd027b02227412e991dce6264322d045"
  },
  "kernelspec": {
   "display_name": "Python 3.9.10 64-bit (windows store)",
   "language": "python",
   "name": "python3"
  },
  "language_info": {
   "codemirror_mode": {
    "name": "ipython",
    "version": 3
   },
   "file_extension": ".py",
   "mimetype": "text/x-python",
   "name": "python",
   "nbconvert_exporter": "python",
   "pygments_lexer": "ipython3",
   "version": "3.9.10"
  },
  "orig_nbformat": 4
 },
 "nbformat": 4,
 "nbformat_minor": 2
}
